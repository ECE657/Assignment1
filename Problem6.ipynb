{
 "cells": [
  {
   "attachments": {},
   "cell_type": "markdown",
   "metadata": {},
   "source": [
    "# Problem 6: Multilayer Perceptron"
   ]
  },
  {
   "cell_type": "code",
   "execution_count": 1,
   "metadata": {},
   "outputs": [],
   "source": [
    "import numpy as np # linear algebra\n",
    "import pandas as pd # data processing, CSV file I/O (e.g. pd.read_csv)\n",
    "import matplotlib.pyplot as plt\n",
    "import os\n",
    "from utils.activations import softmax, sigmoid\n",
    "from utils.data_parser import data_split_train_test\n",
    "np.random.seed(1)\n",
    "\n",
    "#define constants\n",
    "num_class = 4 # no of classes\n",
    "hidden_layer_units = 25  #number of units in the hidden layer\n",
    "epochs = 200  #number of iterations\n",
    "alpha = 0.001 #learning rate \n"
   ]
  },
  {
   "attachments": {},
   "cell_type": "markdown",
   "metadata": {},
   "source": [
    "## DataSource\n",
    "We split the provided data into 2 sets: training set and validation set with the ration 8:2"
   ]
  },
  {
   "cell_type": "code",
   "execution_count": 2,
   "metadata": {},
   "outputs": [],
   "source": [
    "x = pd.read_csv(os.path.join('data','train_data.csv'), header=None).add_prefix('Feature_')\n",
    "y = pd.read_csv(os.path.join('data', 'train_labels.csv'), header=None, names=[\"Label_0\", \"Label_1\", \"Label_2\", \"Label_3\"])\n",
    "X, Y, X_t, Y_t = data_split_train_test(x, y)\n",
    "X_tr, Y_tr, X_v, Y_v = data_split_train_test(X,Y)\n",
    "\n",
    "X_train = X_tr.values   #training samples\n",
    "Y_train = Y_tr.values   #training labels\n",
    "X_Validate = X_v.values  #validation samples\n",
    "Y_Validate = Y_v.values  #validation labels\n",
    "X_Test = X_t.values\n",
    "Y_Test = Y_t.values\n",
    "\n",
    "\n",
    "m, n = X_train.shape  #samples x features"
   ]
  },
  {
   "attachments": {},
   "cell_type": "markdown",
   "metadata": {},
   "source": [
    "## Layer, Forward Propagation, and Backward Propagation\n",
    "We then implement Layer, Forward Propagation, and Back Propagation as follow\n",
    "<img align=\"left\" src=\"system.png\"     style=\" width:380px; padding: 10px; \" >\n"
   ]
  },
  {
   "cell_type": "code",
   "execution_count": 3,
   "metadata": {},
   "outputs": [],
   "source": [
    "def Layer(A_in, W, B, g):\n",
    "    \"\"\"\n",
    "    :param A_in: shape(m,n) - input data\n",
    "    :param W: shape(feature,units) - weight matrix, n0 feature  x units, \n",
    "    :param b: shape(units,1) - bias vector, n0 units x 1\n",
    "    :param g: activation function(e.g sigmoid, relu, softmax, ...)\n",
    "    :return:\n",
    "    Z - linear regression\n",
    "    A_out: shape(m, units): output data - m x units\n",
    "    \"\"\"\n",
    "    Z = np.dot(A_in, W) + B\n",
    "    A_out = g(Z)\n",
    "    return Z,A_out"
   ]
  },
  {
   "cell_type": "code",
   "execution_count": 4,
   "metadata": {},
   "outputs": [],
   "source": [
    "def compute_forward_prop(x, W1, b1, W2, b2):\n",
    "    z1, a1 = Layer(x, W1, b1, sigmoid)  #hidden layer [1] with sigmoid activation\n",
    "    z2, a2 = Layer(a1, W2, b2, softmax) #output layer [2] with softmax activation\n",
    "    return z1, a1, z2, a2"
   ]
  },
  {
   "attachments": {},
   "cell_type": "markdown",
   "metadata": {},
   "source": [
    "Back-propagation is computed by the formulas:\n",
    "$$dz^{[2]}=a^{[2]} - Ytrain$$\n",
    "$$dW^{[2]}=\\frac{1}{m}dz^{[2]}a^{[1]}$$\n",
    "$$db^{[2]}=\\frac{1}{m}\\sum dz^{[2]T}$$\n",
    "$$dz^{[1]}=W^{[2]T}dz^{[2]}*g'(z^{[1]})$$\n",
    "$$dW^{[1]}=\\frac{1}{m}dz^{[1]}X^{T}$$\n",
    "$$db^{[1]}=\\frac{1}{m}\\sum dz^{[1]T}$$"
   ]
  },
  {
   "cell_type": "code",
   "execution_count": 5,
   "metadata": {},
   "outputs": [],
   "source": [
    "def sigmoid_derivative(x): \n",
    "    return sigmoid(x) * (1 - sigmoid(x))\n",
    "\n",
    "def compute_backward_prop(Z1, A1, A2, W2,X, Y): \n",
    "    dz2 = A2 - Y\n",
    "    dW2 = np.dot(A1.T,dz2)\n",
    "    db2 = dz2\n",
    "    dz1 = np.dot(dz2,W2.T)\n",
    "    db1 = dz1 * sigmoid_derivative(Z1)\n",
    "    dW1 = np.dot(X.T,dz1 * sigmoid_derivative(Z1))\n",
    "    return db1, dW1, db2, dW2"
   ]
  },
  {
   "attachments": {},
   "cell_type": "markdown",
   "metadata": {},
   "source": [
    "<p style=\"page-break-after:always;\"></p>\n",
    "\n",
    "## Gradient descent \n",
    "Then, these values from back-prop will be fed into gradient descent algorithm to re-calculate the weights and bias, so that the system can minimize the cost function:\n",
    "$$W^{[1]} = W^{[1]} - \\alpha dW^{[1]}$$\n",
    "$$b^{[1]} = b^{[1]} - \\alpha db^{[1]}$$\n",
    "$$W^{[2]} = W^{[2]} - \\alpha dW^{[2]}$$\n",
    "$$b^{[2]} = b^{[2]} - \\alpha db^{[2]}$$"
   ]
  },
  {
   "cell_type": "code",
   "execution_count": 6,
   "metadata": {},
   "outputs": [],
   "source": [
    "def update_model_params(W1, b1, W2, b2, dW1, db1, dW2, db2, alpha_):\n",
    "    W1 = W1 - alpha_ * dW1\n",
    "    W2 = W2 - alpha_ * dW2\n",
    "    b1 = b1 - alpha_ * db1.sum(axis=0)\n",
    "    b2 = b2 - alpha_ * db2.sum(axis=0)\n",
    "    return b1, W1, b2, W2"
   ]
  },
  {
   "attachments": {},
   "cell_type": "markdown",
   "metadata": {},
   "source": [
    "## Cost function\n",
    "Cost function is defined by the average of square of error function\n",
    "$$Cost = \\frac{1}{m}\\sum_{i=0}^{m}(\\hat{y}-y)^2$$"
   ]
  },
  {
   "cell_type": "code",
   "execution_count": 7,
   "metadata": {},
   "outputs": [],
   "source": [
    "def compute_cost(y_hat, y):\n",
    "    return np.mean(np.square(y_hat - y))"
   ]
  },
  {
   "attachments": {},
   "cell_type": "markdown",
   "metadata": {},
   "source": [
    "## Initialize model parameters\n",
    "The model parameters are intialized randomly as follow:"
   ]
  },
  {
   "cell_type": "code",
   "execution_count": 8,
   "metadata": {},
   "outputs": [],
   "source": [
    "\n",
    "def initialize_model_params():\n",
    "    W1 = np.random.randn(n, hidden_layer_units)\n",
    "    b1 = np.random.randn(hidden_layer_units)\n",
    "    W2 = np.random.randn(hidden_layer_units, num_class)\n",
    "    b2 = np.random.randn(num_class)\n",
    "    return b1, W1, b2, W2"
   ]
  },
  {
   "attachments": {},
   "cell_type": "markdown",
   "metadata": {},
   "source": [
    "<p style=\"page-break-after:always;\"></p>\n",
    "\n",
    "## Accuracy and one-hot encode\n",
    "In order to analyze the results, the implementation of prediction and accuracy are showed below:  "
   ]
  },
  {
   "cell_type": "code",
   "execution_count": 9,
   "metadata": {},
   "outputs": [],
   "source": [
    "def predict(X, B1, W1, B2, W2):\n",
    "    Z1 = np.dot(X, W1) + B1\n",
    "    A1 = sigmoid(Z1)\n",
    "    Z2 = np.dot(A1, W2) + B2\n",
    "    A2 = softmax(Z2)\n",
    "    prediction = np.argmax(A2, 0)\n",
    "    return prediction\n",
    "\n",
    "def compute_accuracy(Y_hat, Y):\n",
    "    correct_count = sum((Y[i] == Y_hat[i]).all() for i in range(len(Y)))\n",
    "    accuracy = correct_count / len(Y)\n",
    "    return accuracy\n",
    "\n",
    "def convert_to_one_hot(A):\n",
    "    num_classes = A.shape[1]\n",
    "    max_value = np.max(A) + 1\n",
    "    one_hot_encoded = np.zeros((A.shape[0], num_classes), dtype=int)\n",
    "    indices = np.argmax(A, axis=1)\n",
    "    one_hot_encoded[np.arange(A.shape[0]), indices] = 1\n",
    "    return one_hot_encoded"
   ]
  },
  {
   "attachments": {},
   "cell_type": "markdown",
   "metadata": {},
   "source": [
    "## Training data\n",
    "Sequence of the training process: Compute forward-propagation -> compute backward-propagation -> compute gradient descend, then repeat until convergence. "
   ]
  },
  {
   "cell_type": "code",
   "execution_count": 10,
   "metadata": {},
   "outputs": [],
   "source": [
    "def training_data(X, Y, X_v, Y_v, epochs, alpha):\n",
    "    b1, W1, b2, W2 = initialize_model_params()\n",
    "    accuracy = 0.\n",
    "    epochs_plt = []\n",
    "    costs_plt = []\n",
    "    acc_plt = []\n",
    "    for i in range(epochs):\n",
    "        z1, a1, z2, a2 = compute_forward_prop(X, W1, b1, W2, b2)\n",
    "        db1, dW1, db2, dW2 = compute_backward_prop(z1, a1, a2, W2, X, Y) \n",
    "        b1, W1, b2, W2 = update_model_params(W1, b1, W2, b2, dW1, db1, dW2, db2, alpha)\n",
    "\n",
    "        #compute cost for each epoch        \n",
    "        cost = compute_cost(a2, Y) \n",
    "        #avoid overfitting by using validation set for prediction\n",
    "        _,_,_,y_hat = compute_forward_prop(X_v, W1, b1, W2, b2)\n",
    "        #convert prediction to one-hot encode\n",
    "        y_hat_encoded = convert_to_one_hot(y_hat)\n",
    "\n",
    "        accuracy = compute_accuracy(y_hat_encoded, Y_v)\n",
    "        if i % 10 == 0:\n",
    "            print(\"Epoch: \", i)\n",
    "            print(f\"cost = {cost}  accuracy={accuracy * 100}\")\n",
    "            epochs_plt.append(i)\n",
    "            costs_plt.append(cost)\n",
    "            acc_plt.append(accuracy)\n",
    "    plt.title('Cost vs Epochs')\n",
    "    plt.xlabel('Epochs')\n",
    "    plt.ylabel('Cost')\n",
    "    plt.plot(epochs_plt,costs_plt,'r-')\n",
    "    plt.show()\n",
    "\n",
    "    plt.title('Accuracy vs Epochs')\n",
    "    plt.xlabel('Epochs')\n",
    "    plt.ylabel('Accuracy')\n",
    "    plt.plot(epochs_plt,acc_plt,'g-')\n",
    "    plt.show()\n",
    "    return b1, W1, b2, W2, accuracy * 100"
   ]
  },
  {
   "attachments": {},
   "cell_type": "markdown",
   "metadata": {},
   "source": [
    "Run the training process with $epochs=200, \\alpha=0.001$:"
   ]
  },
  {
   "cell_type": "code",
   "execution_count": 11,
   "metadata": {},
   "outputs": [
    {
     "name": "stdout",
     "output_type": "stream",
     "text": [
      "Epoch:  0\n",
      "cost = 0.3216015645085905  accuracy=41.555162837667254\n",
      "Epoch:  10\n",
      "cost = 0.294560368887203  accuracy=25.57434991163848\n",
      "Epoch:  20\n",
      "cost = 0.20671764437392232  accuracy=59.176975511234545\n",
      "Epoch:  30\n",
      "cost = 0.13503641767527919  accuracy=70.28528149457209\n",
      "Epoch:  40\n",
      "cost = 0.028640634201958462  accuracy=93.83993940924009\n",
      "Epoch:  50\n",
      "cost = 0.02329747422599371  accuracy=94.62257005806615\n",
      "Epoch:  60\n",
      "cost = 0.020844651363935842  accuracy=94.72355465791466\n",
      "Epoch:  70\n",
      "cost = 0.01929569677351205  accuracy=94.97601615753598\n",
      "Epoch:  80\n",
      "cost = 0.018010704088415003  accuracy=95.3294622570058\n",
      "Epoch:  90\n",
      "cost = 0.017201535560322594  accuracy=95.48093915677859\n",
      "Epoch:  100\n",
      "cost = 0.016591144310699777  accuracy=95.45569300681646\n",
      "Epoch:  110\n",
      "cost = 0.01608751344271885  accuracy=95.53143145670285\n",
      "Epoch:  120\n",
      "cost = 0.01655861916691526  accuracy=95.58192375662712\n",
      "Epoch:  130\n",
      "cost = 0.02401666307578842  accuracy=94.90027770764958\n",
      "Epoch:  140\n",
      "cost = 0.017575570935473846  accuracy=95.63241605655138\n",
      "Epoch:  150\n",
      "cost = 0.01597519688929624  accuracy=95.83438525624842\n",
      "Epoch:  160\n",
      "cost = 0.015156560565977847  accuracy=95.93536985609694\n",
      "Epoch:  170\n",
      "cost = 0.014540167540071251  accuracy=95.91012370613483\n",
      "Epoch:  180\n",
      "cost = 0.014133787494858755  accuracy=96.01110830598334\n",
      "Epoch:  190\n",
      "cost = 0.01371909647060177  accuracy=96.0616006059076\n"
     ]
    },
    {
     "data": {
      "image/png": "[encoded data removed]",
      "text/plain": [
       "<Figure size 640x480 with 1 Axes>"
      ]
     },
     "metadata": {},
     "output_type": "display_data"
    },
    {
     "data": {
      "image/png": "[encoded data removed]",
      "text/plain": [
       "<Figure size 640x480 with 1 Axes>"
      ]
     },
     "metadata": {},
     "output_type": "display_data"
    }
   ],
   "source": [
    "b1, W1, b2, W2, accuracy = training_data(X_train, Y_train, X_Validate, Y_Validate, epochs, alpha)"
   ]
  },
  {
   "attachments": {},
   "cell_type": "markdown",
   "metadata": {},
   "source": [
    "The accuracy of the validation set is around 95%"
   ]
  },
  {
   "cell_type": "code",
   "execution_count": 12,
   "metadata": {},
   "outputs": [
    {
     "data": {
      "text/plain": [
       "96.16258520575613"
      ]
     },
     "execution_count": 12,
     "metadata": {},
     "output_type": "execute_result"
    }
   ],
   "source": [
    "accuracy"
   ]
  },
  {
   "attachments": {},
   "cell_type": "markdown",
   "metadata": {},
   "source": [
    "And the model parameters are:"
   ]
  },
  {
   "cell_type": "code",
   "execution_count": 13,
   "metadata": {},
   "outputs": [
    {
     "data": {
      "text/plain": [
       "(array([-0.93599925, -4.56261818, -4.50651659, -2.15978315,  0.30355812,\n",
       "        -1.22499393, -0.22264082, -1.21089574, -2.69534493,  0.35264072,\n",
       "        -4.30745761, -2.53579463,  0.95032475, -2.63308513, -2.28894435,\n",
       "        -6.39905643, -1.91319706, -2.60575625, -4.62508392, -2.57137809,\n",
       "        -0.74302246, -0.15676277,  0.4210765 , -0.79033751, -1.59461985]),\n",
       " array([[ 1.62434536, -0.61175641, -0.52817175, ...,  0.90159072,\n",
       "          0.50249434,  0.90085595],\n",
       "        [-0.68372786, -0.12289023, -0.93576943, ...,  2.10025514,\n",
       "          0.12015895,  0.61720311],\n",
       "        [ 0.30017032, -0.35224985, -1.1425182 , ...,  0.16003707,\n",
       "          0.87616892,  0.31563495],\n",
       "        ...,\n",
       "        [-0.32425465,  1.06686631, -0.37814658, ...,  0.3938322 ,\n",
       "         -0.15137905, -0.41505414],\n",
       "        [-0.85782245,  0.47026103, -0.71104247, ..., -0.91428204,\n",
       "          0.80115669,  0.11465216],\n",
       "        [-2.30445222,  1.69949757, -0.76992763, ..., -0.51091193,\n",
       "         -0.53900317,  0.86116192]]),\n",
       " array([ 0.35903065,  1.61416603,  1.5128868 , -1.64729396]),\n",
       " array([[ -0.77803157,  -3.67497154,   1.97597145,  -0.93201204],\n",
       "        [ -1.68583878,   3.71215895,  -3.85999668,   2.57614458],\n",
       "        [  6.32586143,  -2.40012776,  -1.42538324,  -4.48330507],\n",
       "        [  1.61879463,  -1.99300059,   1.67686646,   1.18427851],\n",
       "        [  2.28040997,  -2.70159128,   2.40549393,  -0.62073572],\n",
       "        [ -2.61205409,   4.2305934 ,   0.50627146,  -4.71338521],\n",
       "        [  1.5264469 ,  -3.81347658,   4.68259706,  -3.90785504],\n",
       "        [  2.37883587,  -4.4544123 ,   4.27903807,  -3.60713   ],\n",
       "        [  4.1117471 ,  -0.78324379,  -2.0864631 ,  -1.15695412],\n",
       "        [ -1.41578276,  -2.62262557,   1.32988297,   0.28197494],\n",
       "        [  0.40709688,  -0.60295844,  -5.45542869,   8.04578377],\n",
       "        [  2.7580672 ,  -1.21374288,  -4.66465576,   0.71120008],\n",
       "        [  0.93569069,   4.74525503,  -0.01789697,  -3.80824876],\n",
       "        [  1.57071623,   1.98600151,  -6.22421954,   5.42510196],\n",
       "        [  6.81057955,  -1.85408261,  -6.06726847,  -1.15106183],\n",
       "        [ 10.21685881, -12.13408873,   2.28062744,   1.08129289],\n",
       "        [  2.09832433,   0.21256855,   1.96116247,  -3.60952867],\n",
       "        [  6.6115553 ,  -0.92833796,  -0.30259876,  -7.96303916],\n",
       "        [  7.380878  ,  -2.85696862,  -4.23180613,   1.39999532],\n",
       "        [  6.90797495,  -6.03336745,   0.89678753,  -1.99085321],\n",
       "        [ -4.55697704,  11.20409421,   0.99443202,  -7.14508558],\n",
       "        [ -2.44549908,   4.38477077,  -1.13704932,  -5.00007015],\n",
       "        [ -0.29244846,  -0.18924401,   1.85681925,   0.33904986],\n",
       "        [ -0.51944975,  -1.71809854,   0.07618552,   1.21852772],\n",
       "        [ -0.61566269,  -2.17207488,  -1.86093088,   3.33831657]]))"
      ]
     },
     "execution_count": 13,
     "metadata": {},
     "output_type": "execute_result"
    }
   ],
   "source": [
    "b1, W1, b2, W2"
   ]
  },
  {
   "attachments": {},
   "cell_type": "markdown",
   "metadata": {},
   "source": [
    "Finally, we can save them for later prediction"
   ]
  },
  {
   "cell_type": "code",
   "execution_count": 14,
   "metadata": {},
   "outputs": [],
   "source": [
    "np.save('hidden_weight.npy', W1)\n",
    "np.save('hidden_bias.npy', b1)\n",
    "np.save('output_weight.npy', W2)\n",
    "np.save('output_bias.npy', b2)"
   ]
  },
  {
   "attachments": {},
   "cell_type": "markdown",
   "metadata": {},
   "source": [
    "# Conclusion"
   ]
  },
  {
   "cell_type": "code",
   "execution_count": 17,
   "metadata": {},
   "outputs": [
    {
     "name": "stdout",
     "output_type": "stream",
     "text": [
      "Test accuracy: 0.9628357907493436\n"
     ]
    }
   ],
   "source": [
    "def test_data(X_t, Y_t, W1, b1, W2, b2):\n",
    "    _,_,_,y_hat = compute_forward_prop(X_t, W1, b1, W2, b2)\n",
    "    y_hat_encoded = convert_to_one_hot(y_hat)\n",
    "    accuracy = compute_accuracy(y_hat_encoded, Y_t)\n",
    "    print(f'Test accuracy: {accuracy}')\n",
    "\n",
    "test_data(X_Test,Y_Test,W1,b1,W2,b2)"
   ]
  }
 ],
 "metadata": {
  "kernelspec": {
   "display_name": "base",
   "language": "python",
   "name": "python3"
  },
  "language_info": {
   "codemirror_mode": {
    "name": "ipython",
    "version": 3
   },
   "file_extension": ".py",
   "mimetype": "text/x-python",
   "name": "python",
   "nbconvert_exporter": "python",
   "pygments_lexer": "ipython3",
   "version": "3.9.6"
  },
  "orig_nbformat": 4
 },
 "nbformat": 4,
 "nbformat_minor": 2
}
