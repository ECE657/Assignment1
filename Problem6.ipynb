{
 "cells": [
  {
   "attachments": {},
   "cell_type": "markdown",
   "metadata": {},
   "source": [
    "# Problem 6: Multilayer Perceptron"
   ]
  },
  {
   "cell_type": "code",
   "execution_count": 1,
   "metadata": {},
   "outputs": [],
   "source": [
    "import numpy as np # linear algebra\n",
    "import pandas as pd # data processing, CSV file I/O (e.g. pd.read_csv)\n",
    "import matplotlib.pyplot as plt\n",
    "import os\n",
    "from utils.activations import softmax, sigmoid\n",
    "from utils.data_parser import data_split_train_test\n",
    "np.random.seed(1)\n",
    "\n",
    "#define constants\n",
    "num_class = 4 # no of classes\n",
    "hidden_layer_units = 25  #number of units in the hidden layer\n",
    "epochs = 200  #number of iterations\n",
    "alpha = 0.001 #learning rate \n"
   ]
  },
  {
   "attachments": {},
   "cell_type": "markdown",
   "metadata": {},
   "source": [
    "## DataSource\n",
    "We split the provided data into 2 sets: training set and validation set with the ration 8:2"
   ]
  },
  {
   "cell_type": "code",
   "execution_count": 2,
   "metadata": {},
   "outputs": [],
   "source": [
    "x = pd.read_csv(os.path.join('data','train_data.csv'), header=None).add_prefix('Feature_')\n",
    "y = pd.read_csv(os.path.join('data', 'train_labels.csv'), header=None, names=[\"Label_0\", \"Label_1\", \"Label_2\", \"Label_3\"])\n",
    "X, Y, X_v, Y_v = data_split_train_test(x, y)\n",
    "X_train = X.values   #training samples\n",
    "Y_train = Y.values   #training labels\n",
    "\n",
    "m, n = X_train.shape  #samples x features\n",
    "X_Validate = X_v.values  #validation samples\n",
    "Y_Validate = Y_v.values  #validation labels\n"
   ]
  },
  {
   "attachments": {},
   "cell_type": "markdown",
   "metadata": {},
   "source": [
    "## Layer, Forward Propagation, and Backward Propagation\n",
    "We then implement Layer, Forward Propagation, and Back Propagation as follow\n",
    "<img align=\"left\" src=\"./system.png\"     style=\" width:380px; padding: 10px; \" >\n"
   ]
  },
  {
   "cell_type": "code",
   "execution_count": 3,
   "metadata": {},
   "outputs": [],
   "source": [
    "def Layer(A_in, W, B, g):\n",
    "    \"\"\"\n",
    "    :param A_in: shape(m,n) - input data\n",
    "    :param W: shape(feature,units) - weight matrix, n0 feature  x units, \n",
    "    :param b: shape(units,1) - bias vector, n0 units x 1\n",
    "    :param g: activation function(e.g sigmoid, relu, softmax, ...)\n",
    "    :return:\n",
    "    Z - linear regression\n",
    "    A_out: shape(m, units): output data - m x units\n",
    "    \"\"\"\n",
    "    Z = np.dot(A_in, W) + B\n",
    "    A_out = g(Z)\n",
    "    return Z,A_out"
   ]
  },
  {
   "cell_type": "code",
   "execution_count": 4,
   "metadata": {},
   "outputs": [],
   "source": [
    "def compute_forward_prop(x, W1, b1, W2, b2):\n",
    "    z1, a1 = Layer(x, W1, b1, sigmoid)  #hidden layer [1] with sigmoid activation\n",
    "    z2, a2 = Layer(a1, W2, b2, softmax) #output layer [2] with softmax activation\n",
    "    return z1, a1, z2, a2"
   ]
  },
  {
   "attachments": {},
   "cell_type": "markdown",
   "metadata": {},
   "source": [
    "Back-propagation is computed by the formulas:\n",
    "$$dz^{[2]}=a^{[2]} - Ytrain$$\n",
    "$$dW^{[2]}=a^{[1]T}\\cdot dz^{[2]}$$\n",
    "$$db^{[2]}=dz^{[2]}$$\n",
    "$$dz^{[1]}=dz^{[2]}  W^{[2]T}$$\n",
    "$$dW^{[1]}=X^{T}\\cdot dz^{[1]}*(z^{[1]})^{'}$$\n",
    "$$db^{[1]}=dz^{[1]}*(z^{[1]})^{'}$$"
   ]
  },
  {
   "cell_type": "code",
   "execution_count": 5,
   "metadata": {},
   "outputs": [],
   "source": [
    "def sigmoid_derivative(x): \n",
    "    return sigmoid(x) * (1 - sigmoid(x))\n",
    "\n",
    "def compute_backward_prop(Z1, A1, A2, W2,X, Y): \n",
    "    dz2 = A2 - Y\n",
    "    dW2 = np.dot(A1.T,dz2)\n",
    "    db2 = dz2\n",
    "    dz1 = np.dot(dz2,W2.T)\n",
    "    db1 = dz1 * sigmoid_derivative(Z1)\n",
    "    dW1 = np.dot(X.T,dz1 * sigmoid_derivative(Z1))\n",
    "    return db1, dW1, db2, dW2"
   ]
  },
  {
   "attachments": {},
   "cell_type": "markdown",
   "metadata": {},
   "source": [
    "## Gradient descent \n",
    "Then, these values from back-prop will be fed into gradient descent algorithm to re-calculate the weights and bias, so that the system can minimize the cost function:\n",
    "$$W^{[1]} = W^{[1]} - \\alpha dW^{[1]}$$\n",
    "$$b^{[1]} = b^{[1]} - \\alpha db^{[1]}$$\n",
    "$$W^{[2]} = W^{[2]} - \\alpha dW^{[2]}$$\n",
    "$$b^{[2]} = b^{[2]} - \\alpha db^{[2]}$$"
   ]
  },
  {
   "cell_type": "code",
   "execution_count": 6,
   "metadata": {},
   "outputs": [],
   "source": [
    "def update_model_params(W1, b1, W2, b2, dW1, db1, dW2, db2, alpha_):\n",
    "    W1 = W1 - alpha_ * dW1\n",
    "    W2 = W2 - alpha_ * dW2\n",
    "    b1 = b1 - alpha_ * db1.sum(axis=0)\n",
    "    b2 = b2 - alpha_ * db2.sum(axis=0)\n",
    "    return b1, W1, b2, W2"
   ]
  },
  {
   "attachments": {},
   "cell_type": "markdown",
   "metadata": {},
   "source": [
    "## Cost function\n",
    "Cost function is defined by the average of square of error function\n",
    "$$Cost = \\frac{1}{m}\\sum_{i=0}^{m}(\\hat{y}-y)^2$$"
   ]
  },
  {
   "cell_type": "code",
   "execution_count": 7,
   "metadata": {},
   "outputs": [],
   "source": [
    "def compute_cost(y_hat, y):\n",
    "    return np.mean(np.square(y_hat - y))"
   ]
  },
  {
   "attachments": {},
   "cell_type": "markdown",
   "metadata": {},
   "source": [
    "## Initialize model parameters\n",
    "The model parameters are intialized randomly as follow:"
   ]
  },
  {
   "cell_type": "code",
   "execution_count": 8,
   "metadata": {},
   "outputs": [],
   "source": [
    "\n",
    "def initialize_model_params():\n",
    "    W1 = np.random.randn(n, hidden_layer_units)\n",
    "    b1 = np.random.randn(hidden_layer_units)\n",
    "    W2 = np.random.randn(hidden_layer_units, num_class)\n",
    "    b2 = np.random.randn(num_class)\n",
    "    return b1, W1, b2, W2"
   ]
  },
  {
   "attachments": {},
   "cell_type": "markdown",
   "metadata": {},
   "source": [
    "## Accuracy and one-hot encode\n",
    "In order to analyze the results, the implementation of prediction and accuracy are showed below:  "
   ]
  },
  {
   "cell_type": "code",
   "execution_count": 9,
   "metadata": {},
   "outputs": [],
   "source": [
    "def predict(X, B1, W1, B2, W2):\n",
    "    Z1 = np.dot(X, W1) + B1\n",
    "    A1 = sigmoid(Z1)\n",
    "    Z2 = np.dot(A1, W2) + B2\n",
    "    A2 = softmax(Z2)\n",
    "    prediction = np.argmax(A2, 0)\n",
    "    return prediction\n",
    "\n",
    "def compute_accuracy(Y_hat, Y):\n",
    "    correct_count = sum((Y[i] == Y_hat[i]).all() for i in range(len(Y)))\n",
    "    accuracy = correct_count / len(Y)\n",
    "    return accuracy\n",
    "\n",
    "def convert_to_one_hot(A):\n",
    "    num_classes = A.shape[1]\n",
    "    max_value = np.max(A) + 1\n",
    "    one_hot_encoded = np.zeros((A.shape[0], num_classes), dtype=int)\n",
    "    indices = np.argmax(A, axis=1)\n",
    "    one_hot_encoded[np.arange(A.shape[0]), indices] = 1\n",
    "    return one_hot_encoded"
   ]
  },
  {
   "attachments": {},
   "cell_type": "markdown",
   "metadata": {},
   "source": [
    "## Training data\n",
    "Sequence of the training process: Compute forward-propagation -> compute backward-propagation -> compute gradient descend, then repeat until convergence. "
   ]
  },
  {
   "cell_type": "code",
   "execution_count": 19,
   "metadata": {},
   "outputs": [],
   "source": [
    "def training_data(X, Y, X_v, Y_v, epochs, alpha):\n",
    "    b1, W1, b2, W2 = initialize_model_params()\n",
    "    accuracy = 0.\n",
    "    epochs_plt = []\n",
    "    costs_plt = []\n",
    "    acc_plt = []\n",
    "    for i in range(epochs):\n",
    "        z1, a1, z2, a2 = compute_forward_prop(X, W1, b1, W2, b2)\n",
    "        db1, dW1, db2, dW2 = compute_backward_prop(z1, a1, a2, W2, X, Y) \n",
    "        b1, W1, b2, W2 = update_model_params(W1, b1, W2, b2, dW1, db1, dW2, db2, alpha)\n",
    "\n",
    "        #compute cost for each epoch        \n",
    "        cost = compute_cost(a2, Y) \n",
    "        #avoid overfitting by using validation set for prediction\n",
    "        _,_,_,y_hat = compute_forward_prop(X_v, W1, b1, W2, b2)\n",
    "        #convert prediction to one-hot encode\n",
    "        y_hat_encoded = convert_to_one_hot(y_hat)\n",
    "\n",
    "        accuracy = compute_accuracy(y_hat_encoded, Y_v)\n",
    "        if i % 10 == 0:\n",
    "            print(\"Epoch: \", i)\n",
    "            print(f\"cost = {cost}  accuracy={accuracy * 100}\")\n",
    "            epochs_plt.append(i)\n",
    "            costs_plt.append(cost)\n",
    "            acc_plt.append(accuracy)\n",
    "    plt.title('Cost vs Epochs')\n",
    "    plt.xlabel('Epochs')\n",
    "    plt.ylabel('Cost')\n",
    "    plt.plot(epochs_plt,costs_plt,'r-')\n",
    "    plt.show()\n",
    "\n",
    "    plt.title('Accuracy vs Epochs')\n",
    "    plt.xlabel('Epochs')\n",
    "    plt.ylabel('Accuracy')\n",
    "    plt.plot(epochs_plt,acc_plt,'g-')\n",
    "    plt.show()\n",
    "    return b1, W1, b2, W2, accuracy * 100"
   ]
  },
  {
   "attachments": {},
   "cell_type": "markdown",
   "metadata": {},
   "source": [
    "Run the training process with $epochs=200, \\alpha=0.001$:"
   ]
  },
  {
   "cell_type": "code",
   "execution_count": 20,
   "metadata": {},
   "outputs": [
    {
     "name": "stdout",
     "output_type": "stream",
     "text": [
      "Epoch:  0\n",
      "cost = 0.28408498899617635  accuracy=43.54675823066047\n",
      "Epoch:  10\n",
      "cost = 0.13649926479984606  accuracy=46.87941829933347\n",
      "Epoch:  20\n",
      "cost = 0.08641108140020512  accuracy=91.57745909917189\n",
      "Epoch:  30\n",
      "cost = 0.027905122601623002  accuracy=93.59725308018582\n",
      "Epoch:  40\n",
      "cost = 0.024317398831974292  accuracy=94.16279539486972\n",
      "Epoch:  50\n",
      "cost = 0.021724828900487027  accuracy=94.80912946879418\n",
      "Epoch:  60\n",
      "cost = 0.020171875756363887  accuracy=95.19289032518682\n",
      "Epoch:  70\n",
      "cost = 0.019019503041713157  accuracy=95.31407796404767\n",
      "Epoch:  80\n",
      "cost = 0.01805573116307522  accuracy=95.45546354271865\n",
      "Epoch:  90\n",
      "cost = 0.017502956455978037  accuracy=95.65744294082003\n",
      "Epoch:  100\n",
      "cost = 0.016648439789338516  accuracy=95.7382347000606\n",
      "Epoch:  110\n",
      "cost = 0.015969619020889295  accuracy=95.89981821854171\n",
      "Epoch:  120\n",
      "cost = 0.015348226312021688  accuracy=96.06140173702282\n",
      "Epoch:  130\n",
      "cost = 0.014331387264345468  accuracy=96.14219349626339\n",
      "Epoch:  140\n",
      "cost = 0.013268684103079288  accuracy=96.38456877398505\n",
      "Epoch:  150\n",
      "cost = 0.01353124700550973  accuracy=96.32397495455464\n",
      "Epoch:  160\n",
      "cost = 0.012221755798957979  accuracy=96.58654817208645\n",
      "Epoch:  170\n",
      "cost = 0.011669221428483426  accuracy=96.62694405170673\n",
      "Epoch:  180\n",
      "cost = 0.011630880320685297  accuracy=96.50575641284588\n",
      "Epoch:  190\n",
      "cost = 0.010785370788511661  accuracy=96.74813169056756\n"
     ]
    },
    {
     "data": {
      "image/png": "[encoded data removed]",
      "text/plain": [
       "<Figure size 640x480 with 1 Axes>"
      ]
     },
     "metadata": {},
     "output_type": "display_data"
    },
    {
     "data": {
      "image/png": "[encoded data removed]",
      "text/plain": [
       "<Figure size 640x480 with 1 Axes>"
      ]
     },
     "metadata": {},
     "output_type": "display_data"
    }
   ],
   "source": [
    "b1, W1, b2, W2, accuracy = training_data(X_train, Y_train, X_Validate, Y_Validate, epochs, alpha)"
   ]
  },
  {
   "attachments": {},
   "cell_type": "markdown",
   "metadata": {},
   "source": [
    "The accuracy of the validation set is around 95%"
   ]
  },
  {
   "cell_type": "code",
   "execution_count": 12,
   "metadata": {},
   "outputs": [
    {
     "data": {
      "text/plain": [
       "96.1017976166431"
      ]
     },
     "execution_count": 12,
     "metadata": {},
     "output_type": "execute_result"
    }
   ],
   "source": [
    "accuracy"
   ]
  },
  {
   "attachments": {},
   "cell_type": "markdown",
   "metadata": {},
   "source": [
    "And the model parameters are:"
   ]
  },
  {
   "cell_type": "code",
   "execution_count": 13,
   "metadata": {},
   "outputs": [
    {
     "data": {
      "text/plain": [
       "(array([ -1.20879816,  -2.31890562,  -5.69464449,  -4.11287925,\n",
       "         -0.50318349,  -2.05513728,  -1.14467425,  -2.42138646,\n",
       "         -4.43622851,   0.63378082,  -4.8365037 ,  -3.62258808,\n",
       "          0.70082273,  -5.42958767, -10.37903416,  -3.81870453,\n",
       "         -2.93411032,  -3.57072241,  -6.13875778,  -2.88154923,\n",
       "         -1.82874738,  -0.2622434 ,   0.11556899,  -0.05138334,\n",
       "         -1.30472677]),\n",
       " array([[ 1.62434536, -0.61175641, -0.52817175, ...,  0.90159072,\n",
       "          0.50249434,  0.90085595],\n",
       "        [-0.68372786, -0.12289023, -0.93576943, ...,  2.10025514,\n",
       "          0.12015895,  0.61720311],\n",
       "        [ 0.30017032, -0.35224985, -1.1425182 , ...,  0.16003707,\n",
       "          0.87616892,  0.31563495],\n",
       "        ...,\n",
       "        [-0.32425465,  1.06686631, -0.37814658, ...,  0.3938322 ,\n",
       "         -0.15137905, -0.41505414],\n",
       "        [-0.85782245,  0.47026103, -0.71104247, ..., -0.91428204,\n",
       "          0.80115669,  0.11465216],\n",
       "        [-2.30445222,  1.69949757, -0.76992763, ..., -0.51091193,\n",
       "         -0.53900317,  0.86116192]]),\n",
       " array([-0.288881  ,  3.19023703,  2.11044854, -3.17301506]),\n",
       " array([[ -0.14806992,  -6.30914292,   3.2349687 ,  -0.18679956],\n",
       "        [ -5.60182419,   5.65408734,  -3.24935791,   3.93956283],\n",
       "        [  9.62416075, -12.47057016,   2.68052734,  -1.81707257],\n",
       "        [  9.10968745,  -0.35905069,  -6.99727124,   0.73357349],\n",
       "        [  3.51367733,  -3.91064303,   2.34932914,  -0.58878654],\n",
       "        [ -0.14858093,  -1.67120603,   2.57638893,  -3.3451764 ],\n",
       "        [  2.23074123,  -4.90111386,   6.04718618,  -4.88910121],\n",
       "        [  3.32714786,  -5.54462736,   5.55110101,  -4.73728988],\n",
       "        [  5.88778811,   0.04381583,  -5.50470092,  -0.34181693],\n",
       "        [ -2.11641368,  -1.73413585,   1.91983032,  -0.49583122],\n",
       "        [ -0.84464531,   1.79774072,  -4.62851526,   6.06991337],\n",
       "        [  4.48999648,  -0.54048181,  -8.45705074,   2.0984047 ],\n",
       "        [  1.1386216 ,   5.61298029,   0.33053594,  -5.22733784],\n",
       "        [ -3.91480094,  -0.65108727,   1.09193566,   6.23155271],\n",
       "        [  8.70626504,  -4.17923366,  -4.32393916,  -2.46492558],\n",
       "        [ 11.81739327,  -5.50513575,  -2.39856114,  -2.46900597],\n",
       "        [  3.00619855,   0.79025123,   2.30335219,  -5.4372753 ],\n",
       "        [  4.53650142,  -3.28376243,   4.0127549 ,  -7.84791448],\n",
       "        [  8.96579323,  -5.67282596,  -2.27463854,   0.67376984],\n",
       "        [ 10.81515258,  -8.52859979,  -1.77894695,  -0.72706403],\n",
       "        [ -0.23665928,  22.48243309, -10.15911311, -11.59019708],\n",
       "        [ -1.63653362,  -1.25888282,   0.75631134,  -2.05874267],\n",
       "        [ -0.09038208,   0.36290304,   1.53345453,  -0.09179886],\n",
       "        [ -1.46677194,  -0.35753778,   0.85466277,   0.02681189],\n",
       "        [ -0.69988945,  -0.40320114,  -9.17731879,   8.9700575 ]]))"
      ]
     },
     "execution_count": 13,
     "metadata": {},
     "output_type": "execute_result"
    }
   ],
   "source": [
    "b1, W1, b2, W2"
   ]
  },
  {
   "attachments": {},
   "cell_type": "markdown",
   "metadata": {},
   "source": [
    "Finally, we can save them for later prediction"
   ]
  },
  {
   "cell_type": "code",
   "execution_count": 14,
   "metadata": {},
   "outputs": [],
   "source": [
    "np.save('hidden_weight.npy', W1)\n",
    "np.save('hidden_bias.npy', b1)\n",
    "np.save('output_weight.npy', W2)\n",
    "np.save('output_bias.npy', b2)"
   ]
  },
  {
   "attachments": {},
   "cell_type": "markdown",
   "metadata": {},
   "source": [
    "# Conclusion"
   ]
  },
  {
   "cell_type": "code",
   "execution_count": 16,
   "metadata": {},
   "outputs": [
    {
     "name": "stdout",
     "output_type": "stream",
     "text": [
      "(1, 784)\n",
      "prediction = [0 0 0 0]\n",
      "X_test = [[6.02128142e-01 8.62859364e-01 6.17885986e-01 4.57209016e-02\n",
      "  4.91627856e-01 4.95220404e-01 8.60226568e-01 7.33323778e-01\n",
      "  9.43951753e-01 5.97909761e-01 1.98395608e-01 8.13332089e-01\n",
      "  6.66243103e-01 6.57197110e-02 2.87594249e-01 8.94302379e-01\n",
      "  4.20915670e-01 1.81189984e-01 4.94794323e-01 9.95699997e-01\n",
      "  9.51245743e-01 9.58117031e-01 7.89246121e-01 2.24206212e-01\n",
      "  2.90498443e-01 3.56378169e-01 5.96100189e-01 3.14755586e-01\n",
      "  9.66690466e-01 3.08603366e-01 7.46113207e-01 6.50271521e-02\n",
      "  9.43405950e-01 7.95064323e-01 8.48672484e-01 8.81184041e-02\n",
      "  4.76102862e-01 2.70518600e-02 4.10366157e-01 5.92788264e-01\n",
      "  5.38432421e-01 3.43927310e-01 1.06862197e-01 6.06358642e-01\n",
      "  1.36387516e-01 6.05545094e-01 6.97435191e-01 5.41602178e-01\n",
      "  3.87713602e-01 8.01177847e-01 6.96324941e-01 9.45285653e-01\n",
      "  3.92263810e-01 3.92191660e-01 5.08980996e-01 8.19378006e-01\n",
      "  7.40417455e-02 8.78471687e-01 9.07940776e-02 9.48665573e-01\n",
      "  5.84246861e-01 5.76775705e-01 4.89337157e-01 3.37869598e-01\n",
      "  6.51674140e-01 6.64938325e-01 3.19138882e-01 6.89022462e-01\n",
      "  4.60036051e-01 1.61057042e-01 2.60848081e-02 4.75552143e-01\n",
      "  1.57277084e-01 5.82823452e-01 2.03728668e-01 9.64813318e-01\n",
      "  9.94014447e-02 6.40494479e-02 7.73574073e-01 7.63812269e-01\n",
      "  2.95488127e-01 4.86833316e-01 4.47158717e-01 6.44593894e-01\n",
      "  3.71001278e-01 1.42750621e-01 6.20950264e-01 7.66625540e-01\n",
      "  4.67326351e-01 2.32060047e-01 4.49242076e-01 7.27912979e-01\n",
      "  4.18834402e-02 7.11375205e-01 1.14428663e-01 5.04708131e-02\n",
      "  5.70789602e-01 9.44105257e-01 3.55858282e-01 8.47756595e-01\n",
      "  4.75225697e-01 6.28502897e-01 2.17703771e-01 1.33612308e-01\n",
      "  1.22956838e-01 5.58085444e-02 2.27049472e-01 2.20807576e-02\n",
      "  5.87262469e-01 4.74228619e-01 1.80360456e-01 7.68794364e-02\n",
      "  5.53511943e-01 4.67984101e-01 9.05561251e-01 4.22100304e-01\n",
      "  2.08659815e-01 7.39982928e-02 3.68822376e-01 7.95259809e-01\n",
      "  7.44341961e-01 9.21457977e-01 1.92862997e-01 5.26931833e-01\n",
      "  4.02891638e-02 1.49988327e-01 7.26730141e-02 9.73262916e-01\n",
      "  9.68609618e-01 4.30936949e-01 6.03773481e-01 6.15455755e-01\n",
      "  8.93677050e-01 7.70158300e-01 8.15607625e-01 1.58579722e-01\n",
      "  5.46694447e-01 2.89522370e-01 3.71896190e-01 5.98952141e-01\n",
      "  1.06541149e-01 7.93037090e-01 3.78496418e-02 6.28903597e-01\n",
      "  9.51243357e-02 9.73610866e-01 5.46108154e-01 6.36470284e-01\n",
      "  3.49695222e-01 5.29186275e-01 5.90729012e-01 6.83406470e-01\n",
      "  7.82515811e-01 1.12691835e-01 7.65570052e-01 9.90806880e-01\n",
      "  4.71509532e-01 1.36062842e-01 6.02409854e-01 4.34814606e-01\n",
      "  1.41514999e-01 7.39193390e-01 1.50761563e-01 7.28618976e-01\n",
      "  2.00968915e-01 1.95953607e-01 9.71498104e-01 2.09621533e-01\n",
      "  3.09451295e-02 4.87766835e-01 4.69288014e-01 2.95639801e-01\n",
      "  9.96312013e-01 1.22001467e-01 8.31137228e-01 5.51048229e-01\n",
      "  5.48479972e-01 8.86250222e-01 2.76626075e-01 7.94687529e-02\n",
      "  6.57220206e-01 2.39692378e-01 1.32979052e-01 1.84314584e-01\n",
      "  4.09584859e-01 4.12195912e-01 3.94942803e-02 7.62423528e-01\n",
      "  9.92324690e-01 9.16514728e-01 9.24644366e-01 7.72272074e-01\n",
      "  1.52218994e-01 4.23507217e-01 7.26041130e-01 6.21551930e-01\n",
      "  8.31434997e-01 6.18526002e-01 6.83136422e-01 2.61889963e-01\n",
      "  8.17812847e-01 1.40520666e-01 8.69833201e-01 1.00761233e-01\n",
      "  9.42437850e-01 8.99265747e-01 5.11047398e-01 8.45613815e-01\n",
      "  1.48342366e-01 2.47195741e-01 7.65516251e-02 5.62075755e-01\n",
      "  7.40466826e-01 6.01833223e-01 7.71940584e-01 4.27764767e-01\n",
      "  8.60865274e-01 4.44079386e-01 9.59373686e-01 4.63032035e-01\n",
      "  9.18927126e-01 2.26064016e-01 9.37489123e-01 7.52344448e-01\n",
      "  3.34620808e-01 4.76446229e-01 2.63767527e-01 8.77562160e-01\n",
      "  4.10467329e-01 7.42745704e-01 6.30265214e-02 3.00737982e-02\n",
      "  8.66497251e-01 5.21661014e-01 4.87411469e-01 8.33280331e-01\n",
      "  2.69542278e-01 9.94269142e-01 7.82913104e-01 9.00851854e-01\n",
      "  9.10509118e-01 9.66095087e-01 1.03365535e-01 1.84719950e-01\n",
      "  5.99384246e-01 3.21203676e-01 1.83786397e-01 7.94135456e-01\n",
      "  6.53091019e-01 6.27112280e-01 8.06686583e-01 2.45652451e-01\n",
      "  5.31706773e-01 4.12348966e-01 5.35340688e-01 2.76579839e-01\n",
      "  4.10744525e-01 6.95674143e-01 4.42572062e-02 9.59779180e-02\n",
      "  8.66022469e-01 8.82700343e-01 5.21725166e-01 4.61364036e-01\n",
      "  7.54975625e-01 9.58746352e-01 7.02045684e-02 4.17955922e-01\n",
      "  6.69610266e-01 5.16099567e-02 3.69904391e-01 3.92748448e-01\n",
      "  6.59742301e-02 2.85855645e-01 2.47427086e-01 2.06399758e-01\n",
      "  4.07640944e-01 8.28569525e-01 9.67533910e-01 2.68939707e-01\n",
      "  2.21207811e-01 6.96399445e-01 2.50526373e-01 7.26824826e-02\n",
      "  7.91342183e-01 2.99819302e-01 9.88085508e-01 6.03737282e-03\n",
      "  4.97452726e-01 7.43974741e-01 9.74934805e-01 7.34696195e-01\n",
      "  1.73522889e-01 9.00123168e-01 4.95166872e-01 8.64390419e-01\n",
      "  3.70624805e-01 3.71100789e-01 6.89643028e-01 6.39245196e-01\n",
      "  8.86054196e-01 9.33807641e-01 5.86878010e-01 6.49503826e-02\n",
      "  3.71307902e-01 3.48077460e-01 2.92219280e-01 4.43190592e-01\n",
      "  4.07222007e-01 3.18383057e-01 7.14606082e-01 9.13580235e-01\n",
      "  4.57467295e-01 2.93776284e-01 3.77992507e-01 6.42211751e-01\n",
      "  5.36763676e-02 8.48024536e-01 9.68010336e-01 6.53356225e-01\n",
      "  4.59085737e-01 7.72801250e-01 8.30618863e-01 6.89201549e-01\n",
      "  3.58382777e-01 2.44238661e-01 1.12703704e-01 4.03362256e-01\n",
      "  2.32697584e-01 8.78216480e-01 8.15820840e-01 1.17149313e-01\n",
      "  3.90761249e-01 9.08726770e-01 1.91508578e-01 9.42397428e-01\n",
      "  5.77924499e-01 6.13560845e-01 6.33839457e-01 9.57504542e-01\n",
      "  8.96588872e-01 1.74162851e-01 2.66393484e-01 1.76799454e-01\n",
      "  6.98779815e-01 4.60675302e-03 1.31012709e-01 6.73035768e-01\n",
      "  4.45728944e-01 4.18909601e-01 3.09424329e-01 7.24189114e-01\n",
      "  5.95713857e-01 5.31086130e-01 4.29194738e-02 1.56045984e-02\n",
      "  4.87942690e-02 7.65690293e-01 4.53982608e-01 9.07881459e-01\n",
      "  4.83820416e-01 3.05194433e-01 3.99977375e-01 9.61372370e-02\n",
      "  7.08622363e-01 7.20729612e-01 2.84620388e-01 5.75263829e-02\n",
      "  7.92705838e-01 3.44960077e-01 6.88966271e-01 2.63913766e-01\n",
      "  1.62173873e-01 9.37845419e-01 9.49102525e-01 7.82957092e-01\n",
      "  9.84486059e-01 4.45374991e-01 7.38117993e-01 3.10708933e-01\n",
      "  7.73265590e-01 3.07149956e-01 8.14446045e-01 6.50160303e-01\n",
      "  1.48878281e-02 9.51947785e-01 7.36154867e-01 3.11382532e-04\n",
      "  1.61438189e-01 1.03646983e-01 3.94240748e-02 4.08380339e-01\n",
      "  9.02126721e-01 1.78761116e-01 9.58174977e-01 8.32634598e-01\n",
      "  5.29370635e-01 5.03711352e-01 4.89319832e-01 9.06172200e-01\n",
      "  7.52909267e-01 4.63237986e-01 7.89613727e-01 3.23568248e-01\n",
      "  3.76184274e-01 6.71471403e-01 6.59312214e-01 9.20529973e-01\n",
      "  4.47727747e-01 3.88794700e-01 9.06608053e-01 1.18531411e-01\n",
      "  8.67998811e-01 7.12637620e-01 8.91331951e-01 1.92048184e-01\n",
      "  6.08143910e-01 7.93956977e-01 4.88137232e-02 9.16595000e-02\n",
      "  5.88648914e-01 5.00072504e-01 5.21735663e-01 7.01081837e-01\n",
      "  2.47032336e-02 7.52049913e-01 4.64360606e-01 3.04651177e-01\n",
      "  3.10041357e-01 9.69225421e-01 7.65335541e-01 2.12073737e-01\n",
      "  9.18556279e-01 6.92452772e-01 4.51942770e-01 8.69198796e-01\n",
      "  6.20728073e-01 8.97812553e-01 7.56444043e-01 5.32694205e-01\n",
      "  5.19955576e-01 4.62701347e-01 2.88512602e-01 7.14492552e-01\n",
      "  8.12947632e-01 2.17304293e-01 9.45960414e-01 9.82332668e-01\n",
      "  7.80391810e-01 5.33080663e-01 2.06352612e-01 5.43055252e-01\n",
      "  1.45557360e-02 3.70347661e-01 6.62566245e-02 5.52577742e-01\n",
      "  5.89002487e-02 3.86393595e-01 4.20949297e-01 5.34496624e-01\n",
      "  4.17118934e-01 6.45622980e-01 1.57485030e-01 6.15516873e-01\n",
      "  3.25143600e-02 9.57369796e-02 5.61956473e-01 6.59343013e-01\n",
      "  5.34149855e-01 3.46939842e-01 9.19339035e-01 7.71812129e-01\n",
      "  4.17014657e-01 7.94973145e-01 8.95640966e-01 9.95092184e-01\n",
      "  5.08795775e-01 7.86913512e-01 6.50519285e-01 1.31239960e-01\n",
      "  5.18962237e-01 4.76540158e-01 5.36882117e-01 5.28254623e-01\n",
      "  6.59485027e-01 4.63417405e-01 9.18770927e-01 6.17848401e-01\n",
      "  4.66811108e-01 4.11129243e-01 2.93095036e-01 4.60592188e-01\n",
      "  3.12347626e-01 1.82674223e-02 5.89799944e-01 8.71278748e-01\n",
      "  6.75016486e-01 1.80065658e-01 3.06525404e-01 7.26278219e-01\n",
      "  8.69257492e-01 1.90193777e-01 9.25376568e-01 7.07930758e-01\n",
      "  7.87730143e-01 3.11322739e-01 1.78920604e-02 9.57424686e-03\n",
      "  4.98738323e-01 6.27374195e-01 2.87044000e-01 9.62048840e-01\n",
      "  6.09576750e-01 2.78281488e-01 7.79272157e-01 3.72288083e-02\n",
      "  5.76559071e-01 3.23667267e-01 1.98757482e-01 9.54996827e-01\n",
      "  9.96454778e-01 4.67890986e-01 3.41619661e-01 2.06719778e-01\n",
      "  9.50940726e-01 8.60398835e-01 7.64414790e-01 9.18924368e-01\n",
      "  8.83436513e-01 2.58274349e-01 2.86860040e-01 6.49837639e-02\n",
      "  1.36219182e-01 6.50174976e-01 6.91036214e-01 2.02189986e-01\n",
      "  1.84106651e-01 8.45985599e-01 8.33740953e-02 9.93882393e-01\n",
      "  3.50963088e-01 6.52162944e-01 9.86202802e-01 4.21037694e-02\n",
      "  6.41426064e-02 8.36480134e-01 2.53995186e-01 5.13852621e-01\n",
      "  2.94104606e-01 5.58783869e-01 3.10486556e-01 8.01931908e-01\n",
      "  9.34772598e-02 4.85094266e-01 4.59744827e-01 6.89589269e-01\n",
      "  1.27788668e-02 2.17594174e-01 9.86143058e-01 5.95238511e-01\n",
      "  9.38448373e-01 5.60891414e-01 3.23901025e-01 9.98621396e-01\n",
      "  8.70544970e-01 7.05164187e-01 3.38906023e-01 3.03149411e-01\n",
      "  2.71966369e-01 9.75624064e-01 3.91574945e-01 3.68597324e-01\n",
      "  3.60047776e-01 6.10767526e-01 2.08949605e-01 5.60079887e-01\n",
      "  1.42779620e-02 9.73749635e-02 4.71400738e-01 9.79049471e-01\n",
      "  2.93663420e-01 8.03354544e-01 5.98278755e-01 7.65466848e-01\n",
      "  8.23575020e-01 3.31031053e-01 4.63734432e-01 5.03414551e-01\n",
      "  5.40796032e-01 8.83354924e-01 1.40828694e-01 4.05983311e-01\n",
      "  9.36632626e-01 9.59233235e-01 8.63861200e-01 7.51825562e-01\n",
      "  3.81239504e-01 3.02358805e-01 3.25959394e-01 6.89413978e-01\n",
      "  9.63984031e-01 1.55984220e-01 9.83607588e-01 8.12117004e-02\n",
      "  3.96119958e-02 2.39279528e-01 4.24720399e-01 4.28730940e-01\n",
      "  2.01027540e-01 4.56008420e-02 7.35945776e-01 5.29443417e-01\n",
      "  7.06978197e-01 7.59545708e-01 4.31627906e-01 7.66289330e-01\n",
      "  6.30765775e-01 7.46486604e-01 2.04455556e-02 9.02960863e-03\n",
      "  6.62910922e-01 7.22809957e-01 2.35685512e-01 4.41496197e-01\n",
      "  9.47657141e-02 2.33451568e-01 5.66743936e-01 6.00855616e-01\n",
      "  4.82837381e-01 1.74036581e-01 2.14951606e-01 7.38522291e-01\n",
      "  5.69311210e-01 4.11934181e-01 2.83413297e-01 9.37443348e-01\n",
      "  7.28984118e-01 8.56194268e-02 5.92596676e-01 6.03670128e-01\n",
      "  3.05687235e-01 6.59319161e-01 9.66093113e-01 7.54503826e-01\n",
      "  8.28294120e-01 1.82394209e-02 2.27361525e-01 4.64203515e-01\n",
      "  4.14060043e-02 1.96552608e-01 3.55217330e-01 8.68965459e-01\n",
      "  8.29783558e-01 3.53135179e-01 7.28970197e-01 7.82420923e-01\n",
      "  9.58019027e-01 1.93016532e-01 6.47501327e-01 2.10003971e-01\n",
      "  2.85570109e-01 3.73397173e-01 4.05232318e-01 9.85389303e-01\n",
      "  3.30387757e-01 6.32461839e-01 2.38164261e-01 5.84037918e-01\n",
      "  9.20999572e-01 4.35774262e-01 2.16698211e-03 1.03025591e-01\n",
      "  5.00019674e-01 4.89427552e-01 2.26682242e-01 3.92062841e-02\n",
      "  2.41941551e-01 7.46133797e-01 9.31390091e-01 6.72441371e-02\n",
      "  8.82519509e-01 4.12333721e-01 3.85581785e-01 4.20305124e-01\n",
      "  1.01483632e-01 2.61850059e-01 6.87698348e-01 6.39816140e-01\n",
      "  2.59752783e-01 4.66041327e-01 5.05133090e-01 9.61258517e-01\n",
      "  1.49100159e-01 3.89275010e-01 2.54072264e-01 4.65171766e-01\n",
      "  5.06309182e-02 4.82651948e-01 5.79699870e-01 6.07911169e-01\n",
      "  4.88813329e-01 9.25274553e-01 5.26029266e-01 5.91510351e-01\n",
      "  5.42024660e-01 6.71937260e-01 8.32246428e-01 7.14772685e-01\n",
      "  3.17776787e-01 8.17030050e-01 8.73543510e-01 5.10081119e-01\n",
      "  5.20796473e-01 1.43002082e-01 1.98738645e-01 1.55426780e-01\n",
      "  7.43332478e-01 6.33967397e-02 4.13996157e-01 2.69046994e-01\n",
      "  8.83083012e-01 5.83943598e-01 1.45409135e-01 4.72976934e-01\n",
      "  6.10882245e-01 5.12478617e-01 3.21933681e-01 5.20972108e-01\n",
      "  1.11942800e-01 3.50062241e-01 9.67665778e-01 2.42796842e-01\n",
      "  1.45792000e-01 9.68390195e-01 1.96635158e-01 1.28753624e-01\n",
      "  1.57017512e-01 3.13911707e-01 9.20561367e-01 1.81609150e-01\n",
      "  2.89788912e-01 4.27353157e-01 9.69306095e-01 9.29639989e-01\n",
      "  8.29807738e-01 3.34848051e-01 7.72448079e-01 7.55999283e-01\n",
      "  3.18267714e-02 3.05902379e-01 7.48131377e-01 7.95244465e-01\n",
      "  2.30946291e-01 9.55978588e-01 2.73615781e-01 3.71792145e-01\n",
      "  9.85534142e-01 7.46195215e-01 8.87008908e-01 3.90989096e-01\n",
      "  2.09299144e-01 7.44889411e-01 4.82795715e-01 3.33462892e-01\n",
      "  9.35995091e-01 3.22630391e-01 1.99451943e-01 2.16902040e-01\n",
      "  9.62536227e-01 9.82367316e-01 7.98302411e-01 9.02842762e-01\n",
      "  1.94016914e-01 3.80375092e-01 7.73890356e-01 3.04756309e-01\n",
      "  1.62636073e-01 9.63098623e-01 9.22326709e-01 3.81271481e-01\n",
      "  7.28806507e-01 1.95792811e-01 9.42309988e-01 9.95816981e-01]]\n"
     ]
    }
   ],
   "source": [
    "X_test = np.random.rand(1, n)\n",
    "print(X_test.shape)\n",
    "prediction = predict(X_test, b1, W1, b2, W2)\n",
    "print(f\"prediction = {prediction}\")\n",
    "print(f\"X_test = {X_test}\")"
   ]
  }
 ],
 "metadata": {
  "kernelspec": {
   "display_name": "base",
   "language": "python",
   "name": "python3"
  },
  "language_info": {
   "codemirror_mode": {
    "name": "ipython",
    "version": 3
   },
   "file_extension": ".py",
   "mimetype": "text/x-python",
   "name": "python",
   "nbconvert_exporter": "python",
   "pygments_lexer": "ipython3",
   "version": "3.9.6"
  },
  "orig_nbformat": 4
 },
 "nbformat": 4,
 "nbformat_minor": 2
}
