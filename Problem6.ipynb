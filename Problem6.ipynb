{
 "cells": [
  {
   "attachments": {},
   "cell_type": "markdown",
   "metadata": {},
   "source": [
    "# Problem 6: Multilayer Perceptron"
   ]
  },
  {
   "cell_type": "code",
   "execution_count": 1,
   "metadata": {},
   "outputs": [],
   "source": [
    "import numpy as np # linear algebra\n",
    "import pandas as pd # data processing, CSV file I/O (e.g. pd.read_csv)\n",
    "import matplotlib.pyplot as plt\n",
    "import os\n",
    "from utils.activations import softmax, sigmoid\n",
    "from utils.data_parser import data_split_train_test\n",
    "np.random.seed(1)\n",
    "\n",
    "#define constants\n",
    "num_class = 4 # no of classes\n",
    "hidden_layer_units = 25  #number of units in the hidden layer\n",
    "epochs = 200  #number of iterations\n",
    "alpha = 0.001 #learning rate \n"
   ]
  },
  {
   "attachments": {},
   "cell_type": "markdown",
   "metadata": {},
   "source": [
    "## DataSource\n",
    "We split the provided data into 2 sets: training set and validation set with the ration 8:2"
   ]
  },
  {
   "cell_type": "code",
   "execution_count": 2,
   "metadata": {},
   "outputs": [],
   "source": [
    "x = pd.read_csv(os.path.join('data','train_data.csv'), header=None).add_prefix('Feature_')\n",
    "y = pd.read_csv(os.path.join('data', 'train_labels.csv'), header=None, names=[\"Label_0\", \"Label_1\", \"Label_2\", \"Label_3\"])\n",
    "X, Y, X_v, Y_v = data_split_train_test(x, y)\n",
    "X_train = X.values   #training samples\n",
    "Y_train = Y.values   #training labels\n",
    "\n",
    "m, n = X_train.shape  #samples x features\n",
    "X_Validate = X_v.values  #validation samples\n",
    "Y_Validate = Y_v.values  #validation labels\n"
   ]
  },
  {
   "attachments": {},
   "cell_type": "markdown",
   "metadata": {},
   "source": [
    "## Layer, Forward Propagation, and Backward Propagation\n",
    "We then implement Layer, Forward Propagation, and Back Propagation as follow\n",
    "<img align=\"left\" src=\"system.png\"     style=\" width:380px; padding: 10px; \" >\n"
   ]
  },
  {
   "cell_type": "code",
   "execution_count": 3,
   "metadata": {},
   "outputs": [],
   "source": [
    "def Layer(A_in, W, B, g):\n",
    "    \"\"\"\n",
    "    :param A_in: shape(m,n) - input data\n",
    "    :param W: shape(feature,units) - weight matrix, n0 feature  x units, \n",
    "    :param b: shape(units,1) - bias vector, n0 units x 1\n",
    "    :param g: activation function(e.g sigmoid, relu, softmax, ...)\n",
    "    :return:\n",
    "    Z - linear regression\n",
    "    A_out: shape(m, units): output data - m x units\n",
    "    \"\"\"\n",
    "    Z = np.dot(A_in, W) + B\n",
    "    A_out = g(Z)\n",
    "    return Z,A_out"
   ]
  },
  {
   "cell_type": "code",
   "execution_count": 4,
   "metadata": {},
   "outputs": [],
   "source": [
    "def compute_forward_prop(x, W1, b1, W2, b2):\n",
    "    z1, a1 = Layer(x, W1, b1, sigmoid)  #hidden layer [1] with sigmoid activation\n",
    "    z2, a2 = Layer(a1, W2, b2, softmax) #output layer [2] with softmax activation\n",
    "    return z1, a1, z2, a2"
   ]
  },
  {
   "attachments": {},
   "cell_type": "markdown",
   "metadata": {},
   "source": [
    "Back-propagation is computed by the formulas:\n",
    "$$dz^{[2]}=a^{[2]} - Ytrain$$\n",
    "$$dW^{[2]}=\\frac{1}{m}dz^{[2]}a^{[1]}$$\n",
    "$$db^{[2]}=\\frac{1}{m}\\sum dz^{[2]T}$$\n",
    "$$dz^{[1]}=W^{[2]T}dz^{[2]}*g'(z^{[1]})$$\n",
    "$$dW^{[1]}=\\frac{1}{m}dz^{[1]}X^{T}$$\n",
    "$$db^{[1]}=\\frac{1}{m}\\sum dz^{[1]T}$$"
   ]
  },
  {
   "cell_type": "code",
   "execution_count": 5,
   "metadata": {},
   "outputs": [],
   "source": [
    "def sigmoid_derivative(x): \n",
    "    return sigmoid(x) * (1 - sigmoid(x))\n",
    "\n",
    "def compute_backward_prop(Z1, A1, A2, W2,X, Y): \n",
    "    dz2 = A2 - Y\n",
    "    dW2 = np.dot(A1.T,dz2)\n",
    "    db2 = dz2\n",
    "    dz1 = np.dot(dz2,W2.T)\n",
    "    db1 = dz1 * sigmoid_derivative(Z1)\n",
    "    dW1 = np.dot(X.T,dz1 * sigmoid_derivative(Z1))\n",
    "    return db1, dW1, db2, dW2"
   ]
  },
  {
   "attachments": {},
   "cell_type": "markdown",
   "metadata": {},
   "source": [
    "<p style=\"page-break-after:always;\"></p>\n",
    "\n",
    "## Gradient descent \n",
    "Then, these values from back-prop will be fed into gradient descent algorithm to re-calculate the weights and bias, so that the system can minimize the cost function:\n",
    "$$W^{[1]} = W^{[1]} - \\alpha dW^{[1]}$$\n",
    "$$b^{[1]} = b^{[1]} - \\alpha db^{[1]}$$\n",
    "$$W^{[2]} = W^{[2]} - \\alpha dW^{[2]}$$\n",
    "$$b^{[2]} = b^{[2]} - \\alpha db^{[2]}$$"
   ]
  },
  {
   "cell_type": "code",
   "execution_count": 6,
   "metadata": {},
   "outputs": [],
   "source": [
    "def update_model_params(W1, b1, W2, b2, dW1, db1, dW2, db2, alpha_):\n",
    "    W1 = W1 - alpha_ * dW1\n",
    "    W2 = W2 - alpha_ * dW2\n",
    "    b1 = b1 - alpha_ * db1.sum(axis=0)\n",
    "    b2 = b2 - alpha_ * db2.sum(axis=0)\n",
    "    return b1, W1, b2, W2"
   ]
  },
  {
   "attachments": {},
   "cell_type": "markdown",
   "metadata": {},
   "source": [
    "## Cost function\n",
    "Cost function is defined by the average of square of error function\n",
    "$$Cost = \\frac{1}{m}\\sum_{i=0}^{m}(\\hat{y}-y)^2$$"
   ]
  },
  {
   "cell_type": "code",
   "execution_count": 7,
   "metadata": {},
   "outputs": [],
   "source": [
    "def compute_cost(y_hat, y):\n",
    "    return np.mean(np.square(y_hat - y))"
   ]
  },
  {
   "attachments": {},
   "cell_type": "markdown",
   "metadata": {},
   "source": [
    "## Initialize model parameters\n",
    "The model parameters are intialized randomly as follow:"
   ]
  },
  {
   "cell_type": "code",
   "execution_count": 8,
   "metadata": {},
   "outputs": [],
   "source": [
    "\n",
    "def initialize_model_params():\n",
    "    W1 = np.random.randn(n, hidden_layer_units)\n",
    "    b1 = np.random.randn(hidden_layer_units)\n",
    "    W2 = np.random.randn(hidden_layer_units, num_class)\n",
    "    b2 = np.random.randn(num_class)\n",
    "    return b1, W1, b2, W2"
   ]
  },
  {
   "attachments": {},
   "cell_type": "markdown",
   "metadata": {},
   "source": [
    "<p style=\"page-break-after:always;\"></p>\n",
    "\n",
    "## Accuracy and one-hot encode\n",
    "In order to analyze the results, the implementation of prediction and accuracy are showed below:  "
   ]
  },
  {
   "cell_type": "code",
   "execution_count": 9,
   "metadata": {},
   "outputs": [],
   "source": [
    "def predict(X, B1, W1, B2, W2):\n",
    "    Z1 = np.dot(X, W1) + B1\n",
    "    A1 = sigmoid(Z1)\n",
    "    Z2 = np.dot(A1, W2) + B2\n",
    "    A2 = softmax(Z2)\n",
    "    prediction = np.argmax(A2, 0)\n",
    "    return prediction\n",
    "\n",
    "def compute_accuracy(Y_hat, Y):\n",
    "    correct_count = sum((Y[i] == Y_hat[i]).all() for i in range(len(Y)))\n",
    "    accuracy = correct_count / len(Y)\n",
    "    return accuracy\n",
    "\n",
    "def convert_to_one_hot(A):\n",
    "    num_classes = A.shape[1]\n",
    "    max_value = np.max(A) + 1\n",
    "    one_hot_encoded = np.zeros((A.shape[0], num_classes), dtype=int)\n",
    "    indices = np.argmax(A, axis=1)\n",
    "    one_hot_encoded[np.arange(A.shape[0]), indices] = 1\n",
    "    return one_hot_encoded"
   ]
  },
  {
   "attachments": {},
   "cell_type": "markdown",
   "metadata": {},
   "source": [
    "## Training data\n",
    "Sequence of the training process: Compute forward-propagation -> compute backward-propagation -> compute gradient descend, then repeat until convergence. "
   ]
  },
  {
   "cell_type": "code",
   "execution_count": 21,
   "metadata": {},
   "outputs": [],
   "source": [
    "def training_data(X, Y, X_v, Y_v, epochs, alpha):\n",
    "    b1, W1, b2, W2 = initialize_model_params()\n",
    "    accuracy = 0.\n",
    "    epochs_plt = []\n",
    "    costs_plt = []\n",
    "    acc_plt = []\n",
    "    for i in range(epochs):\n",
    "        z1, a1, z2, a2 = compute_forward_prop(X, W1, b1, W2, b2)\n",
    "        db1, dW1, db2, dW2 = compute_backward_prop(z1, a1, a2, W2, X, Y) \n",
    "        b1, W1, b2, W2 = update_model_params(W1, b1, W2, b2, dW1, db1, dW2, db2, alpha)\n",
    "\n",
    "        #compute cost for each epoch        \n",
    "        cost = compute_cost(a2, Y) \n",
    "        #avoid overfitting by using validation set for prediction\n",
    "        _,_,_,y_hat = compute_forward_prop(X_v, W1, b1, W2, b2)\n",
    "        #convert prediction to one-hot encode\n",
    "        y_hat_encoded = convert_to_one_hot(y_hat)\n",
    "\n",
    "        accuracy = compute_accuracy(y_hat_encoded, Y_v)\n",
    "        if i % 10 == 0:\n",
    "            print(\"Epoch: \", i)\n",
    "            print(f\"cost = {cost}  accuracy={accuracy * 100}\")\n",
    "            epochs_plt.append(i)\n",
    "            costs_plt.append(cost)\n",
    "            acc_plt.append(accuracy)\n",
    "    plt.title('Cost vs Epochs')\n",
    "    plt.xlabel('Epochs')\n",
    "    plt.ylabel('Cost')\n",
    "    plt.plot(epochs_plt,costs_plt,'r-')\n",
    "    plt.show()\n",
    "\n",
    "    plt.title('Accuracy vs Epochs')\n",
    "    plt.xlabel('Epochs')\n",
    "    plt.ylabel('Accuracy')\n",
    "    plt.plot(epochs_plt,acc_plt,'g-')\n",
    "    plt.show()\n",
    "    return b1, W1, b2, W2, accuracy * 100"
   ]
  },
  {
   "attachments": {},
   "cell_type": "markdown",
   "metadata": {},
   "source": [
    "Run the training process with $epochs=200, \\alpha=0.001$:"
   ]
  },
  {
   "cell_type": "code",
   "execution_count": 22,
   "metadata": {},
   "outputs": [
    {
     "name": "stdout",
     "output_type": "stream",
     "text": [
      "Epoch:  0\n",
      "cost = 0.292323583256822  accuracy=30.741264391032114\n",
      "Epoch:  10\n",
      "cost = 0.13056237698384193  accuracy=66.00686729953544\n",
      "Epoch:  20\n",
      "cost = 0.12876165228028424  accuracy=72.32882246010907\n",
      "Epoch:  30\n",
      "cost = 0.08082811525150022  accuracy=84.91213896182589\n",
      "Epoch:  40\n",
      "cost = 0.023233152458728774  accuracy=94.04160775600889\n",
      "Epoch:  50\n",
      "cost = 0.021188888879907497  accuracy=94.68794182993334\n",
      "Epoch:  60\n",
      "cost = 0.01886165875201662  accuracy=95.25348414461725\n",
      "Epoch:  70\n",
      "cost = 0.017208083793544778  accuracy=95.41506766309837\n",
      "Epoch:  80\n",
      "cost = 0.016169312751626745  accuracy=95.61704706119976\n",
      "Epoch:  90\n",
      "cost = 0.015686547567048896  accuracy=95.71803676025046\n",
      "Epoch:  100\n",
      "cost = 0.014581158010177328  accuracy=95.87962027873157\n",
      "Epoch:  110\n",
      "cost = 0.014299794413790475  accuracy=95.83922439911129\n",
      "Epoch:  120\n",
      "cost = 0.013857943676070768  accuracy=96.06140173702282\n",
      "Epoch:  130\n",
      "cost = 0.013348540674962314  accuracy=96.1017976166431\n",
      "Epoch:  140\n",
      "cost = 0.013016775396985657  accuracy=96.12199555645324\n",
      "Epoch:  150\n",
      "cost = 0.012920335465830109  accuracy=96.14219349626339\n",
      "Epoch:  160\n",
      "cost = 0.012623778997639237  accuracy=96.2027873156938\n",
      "Epoch:  170\n",
      "cost = 0.012366246677760224  accuracy=96.3037770147445\n",
      "Epoch:  180\n",
      "cost = 0.012020364399242261  accuracy=96.3037770147445\n",
      "Epoch:  190\n",
      "cost = 0.011687014217397897  accuracy=96.32397495455464\n"
     ]
    },
    {
     "data": {
      "image/png": "[encoded data removed]",
      "text/plain": [
       "<Figure size 640x480 with 1 Axes>"
      ]
     },
     "metadata": {},
     "output_type": "display_data"
    },
    {
     "data": {
      "image/png": "[encoded data removed]",
      "text/plain": [
       "<Figure size 640x480 with 1 Axes>"
      ]
     },
     "metadata": {},
     "output_type": "display_data"
    }
   ],
   "source": [
    "b1, W1, b2, W2, accuracy = training_data(X_train, Y_train, X_Validate, Y_Validate, epochs, alpha)"
   ]
  },
  {
   "attachments": {},
   "cell_type": "markdown",
   "metadata": {},
   "source": [
    "The accuracy of the validation set is around 95%"
   ]
  },
  {
   "cell_type": "code",
   "execution_count": 23,
   "metadata": {},
   "outputs": [
    {
     "data": {
      "text/plain": [
       "96.4047667137952"
      ]
     },
     "execution_count": 23,
     "metadata": {},
     "output_type": "execute_result"
    }
   ],
   "source": [
    "accuracy"
   ]
  },
  {
   "attachments": {},
   "cell_type": "markdown",
   "metadata": {},
   "source": [
    "And the model parameters are:"
   ]
  },
  {
   "cell_type": "code",
   "execution_count": 24,
   "metadata": {},
   "outputs": [
    {
     "data": {
      "text/plain": [
       "(array([-2.31249843, -3.59901166, -0.09179806, -1.32658126, -2.42168148,\n",
       "        -1.26312159, -0.90127076, -0.44749647, -1.4711427 , -2.21092297,\n",
       "        -1.45191723, -4.11878958,  0.21940422, -1.13715157,  0.18337743,\n",
       "        -1.17931839, -1.77624103,  0.72674977, -2.66732253, -0.54202341,\n",
       "        -0.69594156, -3.53252988, -2.48201306, -0.26447159, -2.87091948]),\n",
       " array([[ 0.90870638, -0.49267221, -0.8131967 , ..., -0.63363459,\n",
       "          0.53467674,  0.26140941],\n",
       "        [-1.03309464,  2.44498868,  1.45353074, ..., -0.29863559,\n",
       "          2.09026825,  2.22233814],\n",
       "        [-0.6802419 , -0.29612434,  1.68936478, ...,  1.16983421,\n",
       "          1.95513128,  1.92115494],\n",
       "        ...,\n",
       "        [ 1.2844543 , -0.66156493,  1.48452139, ..., -0.05867049,\n",
       "         -0.78037502, -0.93249573],\n",
       "        [-1.08703666,  0.47242105,  0.2128596 , ...,  1.55220496,\n",
       "          0.02407665, -0.40401796],\n",
       "        [-0.12246359, -0.56665525,  2.20345081, ...,  0.35151711,\n",
       "         -1.19301167, -1.06692523]]),\n",
       " array([-2.37438935, -1.74078852,  1.92593648, -0.56156751]),\n",
       " array([[  2.20066633,   0.73550828,  -6.17937579,  -1.27605397],\n",
       "        [ -0.17445343,  -7.105869  ,   1.73920541,   3.38525529],\n",
       "        [  2.19265713,  -0.0528829 ,  -1.21783492,   1.68168859],\n",
       "        [  7.58695041,  -9.0018375 ,  -1.54951953,   3.6070271 ],\n",
       "        [  2.0184433 ,   0.05102258,  -4.23206158,   2.48624642],\n",
       "        [  1.38571422,   0.32298735,  -0.6996384 ,   0.62307639],\n",
       "        [  0.54187279,  -1.21014518,   1.43947034,   0.88388792],\n",
       "        [ -0.74687133,   1.8034263 ,  -4.21253706,  -0.09198892],\n",
       "        [ -0.35875486,  -1.42389559,   0.03772425,   1.5831205 ],\n",
       "        [  5.70164109,  -7.37617494,  -3.36820404,   3.83864944],\n",
       "        [  0.96321175,   1.79794267,  -3.07146446,   0.36434892],\n",
       "        [  1.12461488,  -3.54897125,  -2.16045114,   3.64756849],\n",
       "        [  0.46283642,   0.59213647,  -3.05833385,   3.95801689],\n",
       "        [  6.90170432,  -8.6873619 ,  -3.12851726,   6.89617581],\n",
       "        [  2.25367402,   2.42360286,  -6.43483275,   1.77861986],\n",
       "        [  4.8664087 , -12.09960833,  -0.27250896,   5.00294196],\n",
       "        [  6.40548494,  -1.15097107,  -2.92500458,  -3.47662321],\n",
       "        [ -0.05432209,  -0.99271444,   2.52953388,  -1.2549382 ],\n",
       "        [  2.44602429,  -0.95901871,  -3.67906793,   2.05875631],\n",
       "        [  6.67267143,  -9.29095575,  -4.21779393,   6.40565902],\n",
       "        [ -2.53347141,   7.57067539,  -1.10820927,  -6.50031981],\n",
       "        [  5.59009737,  -7.3028698 ,  -2.89551069,   2.50157434],\n",
       "        [  5.95105594,  -9.25334986,  -2.8120018 ,   7.37452983],\n",
       "        [  1.26277379,  -0.231234  ,  -0.10035401,   0.41006446],\n",
       "        [ -1.88013341,  -1.80729923,   7.92087905,  -4.38276512]]))"
      ]
     },
     "execution_count": 24,
     "metadata": {},
     "output_type": "execute_result"
    }
   ],
   "source": [
    "b1, W1, b2, W2"
   ]
  },
  {
   "attachments": {},
   "cell_type": "markdown",
   "metadata": {},
   "source": [
    "Finally, we can save them for later prediction"
   ]
  },
  {
   "cell_type": "code",
   "execution_count": 25,
   "metadata": {},
   "outputs": [],
   "source": [
    "np.save('hidden_weight.npy', W1)\n",
    "np.save('hidden_bias.npy', b1)\n",
    "np.save('output_weight.npy', W2)\n",
    "np.save('output_bias.npy', b2)"
   ]
  },
  {
   "attachments": {},
   "cell_type": "markdown",
   "metadata": {},
   "source": [
    "# Conclusion"
   ]
  },
  {
   "cell_type": "code",
   "execution_count": 26,
   "metadata": {},
   "outputs": [
    {
     "name": "stdout",
     "output_type": "stream",
     "text": [
      "(1, 784)\n",
      "prediction = [0 0 0 0]\n",
      "X_test = [[4.47219462e-01 9.40933340e-01 4.12540244e-01 9.89852340e-02\n",
      "  4.66001749e-02 8.31355759e-01 3.96245830e-01 4.01009295e-01\n",
      "  9.03685669e-01 7.48073869e-02 3.75022432e-01 8.69790809e-01\n",
      "  3.02556133e-01 5.41628612e-01 3.63241584e-01 9.20323192e-01\n",
      "  2.69107133e-01 4.75690742e-02 7.74415578e-01 9.94724494e-03\n",
      "  7.86351202e-01 2.58692025e-01 2.64400044e-01 2.82021514e-01\n",
      "  9.09194958e-01 5.26459115e-01 2.87075011e-01 8.39075928e-01\n",
      "  8.25320971e-01 8.47255759e-01 4.16027234e-01 1.51477743e-01\n",
      "  3.51766985e-01 3.40547249e-01 8.99944453e-01 4.84141066e-01\n",
      "  1.65810815e-01 7.79720449e-01 3.16149297e-01 3.56759302e-01\n",
      "  5.49806002e-01 9.15839358e-01 5.15312386e-01 7.76989612e-01\n",
      "  2.01624903e-01 7.89080285e-01 6.33826206e-01 9.29610683e-01\n",
      "  4.34962824e-01 6.31843605e-01 9.29237057e-01 1.61313080e-03\n",
      "  3.28541157e-01 9.22132363e-01 6.53387050e-01 8.63532621e-01\n",
      "  2.66341276e-01 6.39916794e-01 3.31969868e-01 6.56164573e-01\n",
      "  6.98268105e-01 5.70467379e-01 5.46428575e-01 7.31077220e-01\n",
      "  3.83552328e-01 7.94491731e-01 5.47393772e-01 5.03845544e-01\n",
      "  5.97056948e-01 4.84805974e-01 3.72434207e-01 3.10498391e-01\n",
      "  9.85635517e-01 1.85949375e-01 7.18316330e-01 6.48136593e-01\n",
      "  7.42687835e-01 9.75979665e-02 9.53347472e-01 8.01620646e-01\n",
      "  9.80867843e-01 9.49007964e-01 8.14508099e-01 2.87494891e-01\n",
      "  1.94183606e-01 1.69446891e-01 4.99509646e-01 4.80224624e-01\n",
      "  1.60455342e-01 5.49540916e-01 5.56767553e-02 9.21565809e-01\n",
      "  9.53823371e-01 7.13409040e-01 1.03069164e-01 6.14148444e-02\n",
      "  5.26048481e-01 3.25108646e-01 6.98272920e-01 4.09473564e-03\n",
      "  5.19637871e-01 4.06140769e-01 9.66853037e-01 8.95813691e-01\n",
      "  7.75984093e-01 7.81621553e-01 2.07710295e-01 7.86732562e-02\n",
      "  4.15491975e-01 5.60273416e-01 4.29944608e-01 7.06734648e-01\n",
      "  3.01619764e-01 6.27007686e-01 9.71504432e-01 5.11561601e-01\n",
      "  2.64349375e-01 9.97700166e-01 6.04896610e-01 9.27774058e-01\n",
      "  2.36639716e-01 4.92522022e-01 1.12186653e-01 3.31292863e-01\n",
      "  7.42749447e-02 1.35884619e-01 3.43491230e-01 4.25426336e-01\n",
      "  5.65000970e-01 8.84086665e-01 5.60511974e-01 5.76059762e-01\n",
      "  4.71754020e-01 8.27639276e-01 7.29522838e-01 3.03132788e-02\n",
      "  7.57877100e-01 9.39276077e-01 6.93375150e-01 6.71486686e-01\n",
      "  1.21407104e-01 5.45351732e-01 2.17243441e-01 9.45196297e-01\n",
      "  8.98317307e-01 1.27027671e-01 2.45239239e-01 4.57351199e-01\n",
      "  5.06440468e-01 5.90448104e-01 1.82876175e-01 4.96827799e-01\n",
      "  6.12906471e-01 2.42496559e-01 7.45753633e-01 5.48146170e-01\n",
      "  7.50020033e-01 1.56093605e-02 4.45695247e-01 8.18075085e-01\n",
      "  7.55381191e-01 7.77740618e-01 5.16470241e-01 4.36217075e-01\n",
      "  2.41392937e-01 5.54503380e-01 9.46779135e-01 7.78514880e-01\n",
      "  2.40010489e-01 5.94299861e-01 3.56153657e-01 8.26777603e-01\n",
      "  3.85525478e-01 1.89332902e-01 3.63209314e-01 1.89921022e-01\n",
      "  4.58759951e-01 9.25048921e-02 3.19856424e-01 1.22132060e-01\n",
      "  2.01841892e-01 8.88362461e-01 2.61033908e-01 3.40565751e-01\n",
      "  1.70356245e-01 2.20475985e-01 5.09473066e-01 6.38331779e-01\n",
      "  2.77970530e-01 5.00049362e-01 5.05897419e-01 1.46189111e-01\n",
      "  6.02213990e-01 5.79797282e-01 3.67619412e-01 2.44091464e-02\n",
      "  5.58498169e-01 8.79997160e-01 5.52322173e-01 3.57341227e-01\n",
      "  9.74547713e-01 4.20961047e-01 1.56083449e-03 2.85725345e-01\n",
      "  8.49841041e-01 2.99040967e-01 3.96282754e-01 6.90101030e-01\n",
      "  1.19554642e-01 2.69492201e-01 3.28429188e-01 3.17102520e-01\n",
      "  3.99639805e-01 6.13952878e-01 3.03741675e-01 4.23846841e-01\n",
      "  9.38453846e-01 4.43668584e-01 4.81431483e-01 7.18689479e-01\n",
      "  4.70459626e-01 2.40727700e-02 1.50607850e-01 6.30156704e-01\n",
      "  9.72699390e-01 5.67560987e-01 4.05649263e-01 4.58885611e-01\n",
      "  9.02384126e-01 4.42339748e-02 8.76152159e-01 4.11571383e-01\n",
      "  6.83971742e-01 3.97602349e-01 8.80319538e-01 9.01592204e-02\n",
      "  5.62566331e-01 4.63978426e-01 5.19432861e-01 8.78976565e-01\n",
      "  2.62444038e-02 7.37757545e-02 5.38793520e-01 3.33631256e-01\n",
      "  9.33369083e-01 4.20907628e-01 7.98127190e-02 6.87235964e-01\n",
      "  8.01224023e-01 5.93222849e-01 2.66350124e-01 4.01331988e-01\n",
      "  9.01004882e-01 5.39161892e-01 7.00049816e-01 1.22134092e-02\n",
      "  6.90844824e-01 9.25472470e-01 2.79478496e-01 2.92040077e-01\n",
      "  4.66488434e-01 4.90775171e-01 5.92480305e-01 6.05655454e-02\n",
      "  9.46431880e-01 9.46165108e-01 7.06059874e-01 6.05679727e-01\n",
      "  3.10889409e-01 8.69375463e-01 1.36303581e-01 1.73762093e-01\n",
      "  1.80089420e-01 3.96354380e-01 4.05900038e-01 2.36895044e-01\n",
      "  2.42031204e-01 7.35946997e-01 7.83782040e-01 3.54095384e-01\n",
      "  3.85712506e-01 4.30537345e-01 6.78232844e-01 2.50686240e-01\n",
      "  1.17478368e-02 2.33226010e-01 8.02998331e-01 7.63288645e-01\n",
      "  1.93779550e-01 4.50544480e-01 7.96447666e-01 5.66082766e-01\n",
      "  2.99422548e-01 1.04755063e-01 9.42237641e-01 7.46303517e-01\n",
      "  2.56034420e-01 9.08255190e-01 9.62627667e-01 9.62801163e-01\n",
      "  2.29143023e-01 1.12228877e-01 3.99011057e-01 4.43970796e-01\n",
      "  9.87831026e-01 1.44685242e-01 9.72035173e-01 5.42692892e-01\n",
      "  3.33317309e-01 7.28637536e-01 5.35505283e-01 3.75960775e-01\n",
      "  2.66006218e-01 7.47664333e-01 6.63708522e-01 5.44508301e-01\n",
      "  4.47480561e-01 9.14178340e-01 5.90893373e-01 4.71275105e-01\n",
      "  2.81305970e-01 4.15743031e-01 1.78970103e-01 2.64462419e-01\n",
      "  9.87587163e-01 2.34571610e-01 3.05632438e-01 5.92136246e-01\n",
      "  3.22992411e-01 8.67465163e-02 3.13103977e-01 9.75933299e-01\n",
      "  3.37835757e-01 1.39346051e-01 7.10440918e-01 2.67953643e-01\n",
      "  8.42495570e-01 8.36349079e-01 3.02001818e-01 2.67228072e-02\n",
      "  1.87846651e-01 7.68672308e-01 1.36490505e-01 9.31821984e-01\n",
      "  7.50303761e-01 7.19428746e-01 9.91511479e-01 6.48747715e-01\n",
      "  2.78881919e-01 2.20506817e-01 5.56895671e-02 6.60777651e-01\n",
      "  6.52484979e-01 6.21186559e-01 6.56291430e-01 6.96791306e-01\n",
      "  3.89282588e-01 3.09776558e-01 3.08893083e-01 8.10933994e-01\n",
      "  7.56189816e-01 7.33771740e-01 9.66258772e-01 7.92288707e-01\n",
      "  9.73678586e-01 5.14092420e-01 1.21209854e-01 2.93563713e-02\n",
      "  3.72761841e-01 5.45167062e-01 9.19207145e-01 8.31419598e-01\n",
      "  1.34648095e-01 5.01136065e-01 5.65073733e-01 8.31421704e-01\n",
      "  7.76306097e-01 6.13102296e-01 6.27821977e-01 8.55623485e-01\n",
      "  8.28715620e-01 8.18390416e-01 8.01909668e-01 2.64060243e-01\n",
      "  4.04352266e-01 1.49736378e-01 8.70833576e-01 4.68438362e-01\n",
      "  7.45150376e-01 6.17567948e-01 3.76929994e-01 2.55850106e-01\n",
      "  5.74823114e-01 4.66135133e-01 1.71002995e-01 2.76924221e-01\n",
      "  5.42675420e-02 8.06946649e-01 7.86327133e-01 8.22413637e-01\n",
      "  4.85620149e-02 6.17578098e-01 1.23152244e-01 8.63071463e-01\n",
      "  5.16522757e-01 8.61312751e-01 3.55765728e-01 7.64008113e-01\n",
      "  7.93230041e-01 1.59856572e-01 9.44684156e-01 6.37497444e-01\n",
      "  6.40627744e-01 8.84829639e-01 4.33633878e-01 6.73214944e-01\n",
      "  2.08786508e-01 3.00490784e-01 3.10332436e-01 7.69918169e-01\n",
      "  6.28553255e-01 3.39530006e-01 9.51314620e-01 8.84574722e-01\n",
      "  4.70740043e-01 2.62475707e-01 2.89658948e-01 8.76041544e-01\n",
      "  3.32416569e-01 7.59977646e-01 3.95911217e-01 8.38132871e-01\n",
      "  9.62783889e-01 3.51479491e-01 5.27840379e-01 7.52716574e-02\n",
      "  2.14716322e-01 1.65435993e-01 5.65007772e-01 3.20921419e-01\n",
      "  4.98594192e-02 5.83339244e-01 2.60261122e-01 4.88231197e-01\n",
      "  2.93726869e-01 2.79600749e-01 6.47799814e-01 2.74547529e-01\n",
      "  6.12824899e-02 9.21184466e-01 1.57565365e-01 4.17375059e-01\n",
      "  1.33938155e-01 5.38587218e-03 1.26580231e-01 9.54971069e-01\n",
      "  6.66127065e-01 7.96113001e-02 1.48846731e-01 7.95664876e-01\n",
      "  2.37430836e-01 8.26353695e-01 5.16981573e-01 6.25973274e-01\n",
      "  7.58559252e-01 1.17812612e-01 9.36152685e-01 1.67896907e-01\n",
      "  4.53826608e-01 8.38763100e-01 4.17647557e-01 6.16569865e-01\n",
      "  6.12652096e-01 7.48212292e-01 5.35319907e-01 3.59092887e-01\n",
      "  2.29038272e-01 5.46336576e-01 2.81523897e-01 4.48637896e-01\n",
      "  1.24670312e-02 8.73020002e-01 7.78213568e-01 2.90234203e-01\n",
      "  2.58484447e-01 8.50890872e-01 4.69100452e-01 4.63499459e-01\n",
      "  9.73771670e-01 9.35130182e-01 6.04168104e-01 8.76853651e-01\n",
      "  7.90176175e-01 8.60585259e-01 8.57601656e-01 7.60295180e-01\n",
      "  6.00798982e-02 9.47059646e-01 2.25421982e-01 7.96160527e-02\n",
      "  3.05608637e-01 2.12534359e-01 8.49938022e-01 2.48769205e-01\n",
      "  6.21879896e-01 9.43942072e-01 4.96902008e-01 8.84731127e-01\n",
      "  3.62690124e-02 3.85903222e-01 8.55147701e-01 1.47556800e-01\n",
      "  5.75368845e-01 5.47194561e-01 7.22855476e-01 2.21743305e-01\n",
      "  8.77970890e-01 5.50207993e-01 7.92941500e-01 7.95163274e-01\n",
      "  2.01588868e-01 6.46449495e-01 9.92477451e-01 1.00739759e-01\n",
      "  9.94202998e-01 3.54655213e-02 4.05657900e-01 3.89199907e-01\n",
      "  8.94423388e-01 8.22858079e-01 8.79584822e-01 5.74804302e-01\n",
      "  8.48735642e-01 9.47569042e-01 9.62520373e-01 9.71482730e-01\n",
      "  4.80608001e-01 9.69711020e-01 5.08150025e-01 5.75711449e-01\n",
      "  1.69058085e-01 3.84644523e-01 6.89697330e-02 8.81824910e-01\n",
      "  3.34802436e-01 4.36251035e-01 2.66314401e-01 5.13490982e-01\n",
      "  4.99764706e-02 5.09558464e-01 3.68337826e-01 6.55271044e-01\n",
      "  8.93740358e-01 6.83955182e-01 7.42260740e-01 9.12395916e-01\n",
      "  2.48963166e-01 2.87029610e-01 6.90782787e-01 9.75191414e-01\n",
      "  2.85561778e-01 4.26699510e-01 8.90866414e-01 4.50906800e-01\n",
      "  4.76045679e-01 5.64740651e-01 2.64673435e-01 8.94440813e-01\n",
      "  3.60971682e-02 8.01237032e-01 7.05699555e-01 3.44324483e-02\n",
      "  7.20603299e-01 4.01373097e-01 6.82170302e-01 3.89875476e-01\n",
      "  9.30329500e-01 8.10960117e-01 2.84259490e-01 8.71213554e-01\n",
      "  5.77696484e-01 5.96680028e-03 1.68845324e-01 3.38631758e-01\n",
      "  2.76966331e-02 7.94759112e-01 9.23480383e-01 9.44529258e-01\n",
      "  2.31145367e-01 5.68600751e-02 6.00310681e-01 5.64095328e-01\n",
      "  2.71356478e-01 8.25182420e-01 2.14742348e-01 3.27929127e-03\n",
      "  8.29032839e-01 7.79466706e-01 9.46146338e-02 1.85430645e-02\n",
      "  9.55454727e-03 4.15729611e-01 5.10065851e-02 9.64435725e-01\n",
      "  4.08771784e-01 3.05485098e-01 6.37998989e-01 9.13435399e-01\n",
      "  9.35476580e-01 5.79749886e-02 2.25101756e-01 6.11618487e-01\n",
      "  8.09627751e-01 7.25845519e-01 6.04723170e-02 5.37148763e-01\n",
      "  6.29303215e-01 6.28388008e-01 9.30811831e-01 1.87156111e-01\n",
      "  5.57236689e-01 7.82057469e-01 5.80065480e-01 9.94518096e-01\n",
      "  3.27484008e-01 7.01816456e-01 9.27070011e-01 9.34555638e-04\n",
      "  1.42125126e-01 2.32863053e-01 3.58143422e-01 1.17039451e-01\n",
      "  2.76881273e-01 2.18806812e-01 4.10786791e-01 1.24803600e-01\n",
      "  3.43200881e-01 1.31273364e-01 8.30247787e-01 9.02586220e-01\n",
      "  5.11869624e-01 7.46316682e-01 4.58627466e-01 8.27403047e-01\n",
      "  2.32503712e-01 3.70441901e-01 3.63801606e-01 7.63009133e-01\n",
      "  6.99414819e-01 4.63418734e-02 9.69239468e-01 9.51996156e-01\n",
      "  1.79904154e-01 5.40420877e-01 2.71303625e-01 4.76257556e-01\n",
      "  8.65161259e-01 3.64204632e-01 7.56116856e-01 5.71525517e-01\n",
      "  3.42009725e-01 5.01690690e-01 6.86280167e-01 4.85487165e-01\n",
      "  4.95794149e-01 2.54944322e-01 5.04569572e-01 3.44534018e-01\n",
      "  8.15740607e-01 3.77345392e-01 6.99526643e-01 2.60242819e-01\n",
      "  9.34012580e-01 1.44616275e-01 1.50036993e-01 3.34170645e-01\n",
      "  4.37084050e-01 4.08891826e-01 4.57491314e-03 9.85271773e-01\n",
      "  2.91744742e-01 3.09889787e-01 4.24760362e-01 3.07915816e-01\n",
      "  4.74913108e-01 6.20286311e-01 3.50150978e-01 5.75528886e-02\n",
      "  2.15931928e-02 5.21442693e-01 1.49274841e-01 2.71853975e-01\n",
      "  3.77661631e-01 2.08330193e-01 2.85113147e-01 2.23198025e-01\n",
      "  3.94688976e-01 4.27544683e-01 6.47724840e-01 1.27404947e-01\n",
      "  2.58787230e-01 4.40665567e-01 7.82833045e-01 8.01657945e-01\n",
      "  7.18910018e-01 1.13796439e-02 6.84121059e-01 2.83449523e-02\n",
      "  5.43026448e-01 2.45884894e-01 2.20524295e-01 2.63156302e-01\n",
      "  1.11223420e-01 9.09094813e-01 8.92481063e-01 8.69374484e-02\n",
      "  5.28867545e-01 4.42735009e-01 2.25241973e-01 5.82991702e-01\n",
      "  3.52144305e-01 2.28000259e-01 1.38675766e-01 4.05529686e-01\n",
      "  7.13632649e-02 8.47385708e-01 8.14374705e-01 3.05483359e-01\n",
      "  6.19447174e-01 5.70186296e-01 1.19209158e-01 4.79554359e-01\n",
      "  2.80888243e-01 7.51886827e-02 8.16253838e-02 1.32207646e-01\n",
      "  6.32767068e-01 8.93108428e-01 6.59123942e-01 5.17568733e-02\n",
      "  9.63767288e-01 5.54286206e-01 3.31757460e-01 4.57920921e-01\n",
      "  4.88982629e-01 7.14580402e-02 5.17378747e-01 4.89450895e-01\n",
      "  4.98302662e-01 4.04871060e-01 8.65631312e-01 5.64291493e-01\n",
      "  8.33897171e-01 5.08761882e-01 2.44475968e-01 7.21031465e-01\n",
      "  7.56050569e-01 1.44940846e-01 9.34016110e-03 1.39107523e-01\n",
      "  2.65316858e-01 4.90392288e-01 7.64002469e-01 4.00361781e-01\n",
      "  8.88292841e-01 7.51699407e-01 6.80176027e-01 1.04925952e-01\n",
      "  4.71183385e-01 3.28017213e-01 9.45448556e-02 6.70516627e-01\n",
      "  7.11744657e-01 5.38726343e-01 9.20159216e-02 2.76800075e-01\n",
      "  9.59524499e-02 2.63751575e-02 2.97594263e-01 3.05592352e-01\n",
      "  8.31658641e-01 4.02411443e-01 7.90878442e-01 3.51436526e-01]]\n"
     ]
    }
   ],
   "source": [
    "X_test = np.random.rand(1, n)\n",
    "print(X_test.shape)\n",
    "prediction = predict(X_test, b1, W1, b2, W2)\n",
    "print(f\"prediction = {prediction}\")\n",
    "print(f\"X_test = {X_test}\")"
   ]
  }
 ],
 "metadata": {
  "kernelspec": {
   "display_name": "base",
   "language": "python",
   "name": "python3"
  },
  "language_info": {
   "codemirror_mode": {
    "name": "ipython",
    "version": 3
   },
   "file_extension": ".py",
   "mimetype": "text/x-python",
   "name": "python",
   "nbconvert_exporter": "python",
   "pygments_lexer": "ipython3",
   "version": "3.9.6"
  },
  "orig_nbformat": 4
 },
 "nbformat": 4,
 "nbformat_minor": 2
}
